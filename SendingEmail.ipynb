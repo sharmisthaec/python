{
 "cells": [
  {
   "cell_type": "code",
   "execution_count": 16,
   "metadata": {},
   "outputs": [
    {
     "data": {
      "text/plain": [
       "{}"
      ]
     },
     "execution_count": 16,
     "metadata": {},
     "output_type": "execute_result"
    }
   ],
   "source": [
    "import smtplib, ssl\n",
    "\n",
    "port = 587  \n",
    "smtp_server = \"smtp.gmail.com\"\n",
    "password = \"Shar@25a\"\n",
    "\n",
    "sender_email = \"sharmisthaec@gmail.com\"\n",
    "receiver_email = \"sharmisthaec@gmail.com\"\n",
    "message = \"\"\"\\\n",
    "Subject: Hi there\n",
    "\n",
    "This is a second message.\"\"\"\n",
    "\n",
    "context = ssl.create_default_context()\n",
    "server = smtplib.SMTP(smtp_server, port) \n",
    "server.starttls()\n",
    "\n",
    "server.login(sender_email, password)\n",
    "server.sendmail(sender_email, receiver_email, message)"
   ]
  },
  {
   "cell_type": "code",
   "execution_count": null,
   "metadata": {},
   "outputs": [],
   "source": []
  },
  {
   "cell_type": "code",
   "execution_count": null,
   "metadata": {},
   "outputs": [],
   "source": []
  }
 ],
 "metadata": {
  "kernelspec": {
   "display_name": "Python 2",
   "language": "python",
   "name": "python2"
  },
  "language_info": {
   "codemirror_mode": {
    "name": "ipython",
    "version": 2
   },
   "file_extension": ".py",
   "mimetype": "text/x-python",
   "name": "python",
   "nbconvert_exporter": "python",
   "pygments_lexer": "ipython2",
   "version": "2.7.5"
  }
 },
 "nbformat": 4,
 "nbformat_minor": 2
}
