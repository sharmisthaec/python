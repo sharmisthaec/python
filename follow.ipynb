{
 "cells": [
  {
   "cell_type": "code",
   "execution_count": 1,
   "metadata": {},
   "outputs": [],
   "source": [
    "from selenium import webdriver\n",
    "from selenium.webdriver.common.keys import Keys\n",
    "from time import sleep, strftime\n",
    "from random import randint,choice\n",
    "import pandas as pd\n",
    "from selenium.webdriver.chrome.options import Options\n",
    "import tweepy"
   ]
  },
  {
   "cell_type": "code",
   "execution_count": 8,
   "metadata": {},
   "outputs": [],
   "source": [
    "chrome_options = Options()\n",
    "chrome_options.add_argument(\"--incognito\")\n",
    "chrome_options.add_argument(\"--headless\")\n",
    "\n",
    "\n",
    "webdriver = webdriver.Chrome(options=chrome_options,executable_path='/usr/local/bin/chromedriver')\n",
    "sleep(3)\n",
    "webdriver.get('https://www.instagram.com/accounts/login/?source=auth_switcher')\n",
    "sleep(5)\n",
    "\n",
    "\n",
    "username = webdriver.find_element_by_name('username')\n",
    "username.send_keys('limevilleofficial')\n",
    "password = webdriver.find_element_by_name('password')\n",
    "password.send_keys('Ic_ndoit2')\n",
    "\n",
    "button_login = webdriver.find_element_by_class_name(\"L3NKy\")\n",
    "button_login.click()\n",
    "sleep(5)"
   ]
  },
  {
   "cell_type": "code",
   "execution_count": 9,
   "metadata": {},
   "outputs": [
    {
     "name": "stdout",
     "output_type": "stream",
     "text": [
      "20\n"
     ]
    }
   ],
   "source": [
    "hashtag_list = ['quotesdaily', 'quotes', 'motivationalquotes', 'quotestoliveby','lovequotes','love',]\n",
    "hashtag=choice(hashtag_list)\n",
    "data= pd.read_csv('insta.csv')\n",
    "prev_user_list = list(data['0'])\n",
    "new_followed = []\n",
    "username=[]\n",
    "\n",
    "webdriver.get('https://www.instagram.com/explore/tags/'+ hashtag + '/')\n",
    "sleep(5)\n",
    "first_thumbnail = webdriver.find_element_by_xpath('//*[@id=\"react-root\"]/section/main/article/div[1]/div/div/div[1]/div[1]/a/div')\n",
    "first_thumbnail.click()\n",
    "sleep(randint(3,4))\n",
    "likes_button = webdriver.find_element_by_xpath('//*[@class=\"Nm9Fw\"]/button')\n",
    "likes_button.click()\n",
    "sleep(randint(5,6))\n",
    "# webdriver.get('https://www.instagram.com/explore/tags/'+ hashtag_list[2] + '/')\n",
    "# sleep(5)\n",
    "# third_thumbnail = webdriver.find_element_by_xpath('//*[@id=\"react-root\"]/section/main/article/div[1]/div/div/div[1]/div[3]/a/div')\n",
    "# third_thumbnail.click()\n",
    "# sleep(randint(3,4))\n",
    "\n",
    "scr1 = webdriver.find_element_by_xpath('//*[@class=\"_1XyCr\"]/div[2]/div')\n",
    "for i in range(2):\n",
    "        \n",
    "        \n",
    "        webdriver.execute_script(\"arguments[0].scrollTop = arguments[0].scrollHeight\", scr1)\n",
    "        sleep(randint(4,5))\n",
    "        \n",
    "        for i in range(10):\n",
    "            username.append(webdriver.find_elements_by_class_name('MBL3Z')[i].text)\n",
    "            \n",
    "        sleep(randint(6,7))\n",
    "        \n",
    "print(len(username))"
   ]
  },
  {
   "cell_type": "code",
   "execution_count": 10,
   "metadata": {},
   "outputs": [
    {
     "name": "stdout",
     "output_type": "stream",
     "text": [
      "20\n"
     ]
    }
   ],
   "source": [
    "for user in username:\n",
    "    if user in prev_user_list:\n",
    "        username.remove(user)\n",
    "print(len(username))"
   ]
  },
  {
   "cell_type": "code",
   "execution_count": 11,
   "metadata": {},
   "outputs": [
    {
     "data": {
      "text/html": [
       "<div>\n",
       "<style scoped>\n",
       "    .dataframe tbody tr th:only-of-type {\n",
       "        vertical-align: middle;\n",
       "    }\n",
       "\n",
       "    .dataframe tbody tr th {\n",
       "        vertical-align: top;\n",
       "    }\n",
       "\n",
       "    .dataframe thead th {\n",
       "        text-align: right;\n",
       "    }\n",
       "</style>\n",
       "<table border=\"1\" class=\"dataframe\">\n",
       "  <thead>\n",
       "    <tr style=\"text-align: right;\">\n",
       "      <th></th>\n",
       "      <th>Unnamed: 0</th>\n",
       "      <th>0</th>\n",
       "    </tr>\n",
       "  </thead>\n",
       "  <tbody>\n",
       "    <tr>\n",
       "      <th>105</th>\n",
       "      <td>105</td>\n",
       "      <td>russel_and_seng</td>\n",
       "    </tr>\n",
       "    <tr>\n",
       "      <th>106</th>\n",
       "      <td>106</td>\n",
       "      <td>txbea_mxchelle_</td>\n",
       "    </tr>\n",
       "    <tr>\n",
       "      <th>107</th>\n",
       "      <td>107</td>\n",
       "      <td>blessed_baby17</td>\n",
       "    </tr>\n",
       "    <tr>\n",
       "      <th>108</th>\n",
       "      <td>108</td>\n",
       "      <td>kxxbxrnes</td>\n",
       "    </tr>\n",
       "    <tr>\n",
       "      <th>109</th>\n",
       "      <td>109</td>\n",
       "      <td>libbybits11</td>\n",
       "    </tr>\n",
       "    <tr>\n",
       "      <th>110</th>\n",
       "      <td>110</td>\n",
       "      <td>hannahstaffordd</td>\n",
       "    </tr>\n",
       "    <tr>\n",
       "      <th>111</th>\n",
       "      <td>111</td>\n",
       "      <td>bestfreindforever00</td>\n",
       "    </tr>\n",
       "    <tr>\n",
       "      <th>112</th>\n",
       "      <td>112</td>\n",
       "      <td>llaurynbrooke</td>\n",
       "    </tr>\n",
       "    <tr>\n",
       "      <th>113</th>\n",
       "      <td>113</td>\n",
       "      <td>g_roxana_</td>\n",
       "    </tr>\n",
       "    <tr>\n",
       "      <th>114</th>\n",
       "      <td>114</td>\n",
       "      <td>_.hxnxyshx._</td>\n",
       "    </tr>\n",
       "  </tbody>\n",
       "</table>\n",
       "</div>"
      ],
      "text/plain": [
       "     Unnamed: 0                    0\n",
       "105         105      russel_and_seng\n",
       "106         106      txbea_mxchelle_\n",
       "107         107       blessed_baby17\n",
       "108         108            kxxbxrnes\n",
       "109         109          libbybits11\n",
       "110         110      hannahstaffordd\n",
       "111         111  bestfreindforever00\n",
       "112         112        llaurynbrooke\n",
       "113         113            g_roxana_\n",
       "114         114         _.hxnxyshx._"
      ]
     },
     "execution_count": 11,
     "metadata": {},
     "output_type": "execute_result"
    }
   ],
   "source": [
    "sleep(randint(3,4))\n",
    "num=randint(len(username)-10,len(username))\n",
    "for i in range(num):\n",
    "    webdriver.get('https://www.instagram.com/'+ username[i] + '/')\n",
    "    sleep(randint(4,7))\n",
    "    try:\n",
    "    \n",
    "        follow_button = webdriver.find_element_by_xpath('//*[@class=\"nZSzR\"]/div/div/span/span/button')\n",
    "    \n",
    "    except:\n",
    "    \n",
    "        follow_button = webdriver.find_element_by_xpath('//*[@class=\"nZSzR\"]/div/button')\n",
    "    follow_button.click()\n",
    "    sleep(randint(4,8))\n",
    "    new_followed.append(username[i])\n",
    "    \n",
    "for i in range(len(new_followed)):\n",
    "    prev_user_list.append(new_followed[i])\n",
    "    \n",
    "updated_user_df = pd.DataFrame(prev_user_list)\n",
    "updated_user_df.to_csv('insta.csv')\n",
    "\n",
    "data= pd.read_csv('insta.csv')\n",
    "data.tail(10)"
   ]
  },
  {
   "cell_type": "markdown",
   "metadata": {},
   "source": [
    "# Twitter Followers"
   ]
  },
  {
   "cell_type": "code",
   "execution_count": 12,
   "metadata": {},
   "outputs": [],
   "source": [
    "\n",
    "auth = tweepy.OAuthHandler(\"12NntjNIwVli7TquB6WGD5INY\",\"988PZtGOPtHTmLy0ovs7mjignQHS64GarTuNDf0nbxGZDWcTF6\")\n",
    "auth.set_access_token(\"917145573173501952-qZrA6jHJYa4brygKLpqkBHilA0K7JYM\",\"atCbiy5PbfgyS8AHclcHpzaSIz2h1ipauxjR7kQmoUInh\")\n",
    "api = tweepy.API(auth)\n",
    "\n",
    "data_t= pd.read_csv('twitter.csv')\n",
    "prev_t_user_list = list(data_t['0'])"
   ]
  },
  {
   "cell_type": "code",
   "execution_count": 13,
   "metadata": {},
   "outputs": [
    {
     "data": {
      "text/plain": [
       "u'#MyTakeOnSushant'"
      ]
     },
     "execution_count": 13,
     "metadata": {},
     "output_type": "execute_result"
    }
   ],
   "source": [
    "trends_result = api.trends_place(23424848)\n",
    "top=trends_result[0][\"trends\"][0]['name']\n",
    "top"
   ]
  },
  {
   "cell_type": "code",
   "execution_count": 14,
   "metadata": {},
   "outputs": [
    {
     "name": "stdout",
     "output_type": "stream",
     "text": [
      "#SaturdayVibes\n"
     ]
    }
   ],
   "source": [
    "from datetime import datetime\n",
    "day_name=datetime.today().strftime('%A')\n",
    "key=[\"Morning\",\"Vibes\",\"Motivation\",\"Thoughts\",\"Quotes\"]\n",
    "select_key=choice(key)\n",
    "select_tag='#'+day_name+select_key\n",
    "print select_tag"
   ]
  },
  {
   "cell_type": "code",
   "execution_count": 15,
   "metadata": {},
   "outputs": [],
   "source": [
    "t_user=[]\n",
    "for tweet in tweepy.Cursor(api.search, q=select_tag).items(20):\n",
    "    t_user.append(tweet.user.screen_name)\n",
    "userlist=list(set(t_user))    "
   ]
  },
  {
   "cell_type": "code",
   "execution_count": 16,
   "metadata": {},
   "outputs": [
    {
     "name": "stdout",
     "output_type": "stream",
     "text": [
      "20\n"
     ]
    }
   ],
   "source": [
    "for user in userlist:\n",
    "    if user in prev_t_user_list:\n",
    "        userlist.remove(user)\n",
    "print(len(userlist))"
   ]
  },
  {
   "cell_type": "code",
   "execution_count": 17,
   "metadata": {},
   "outputs": [
    {
     "data": {
      "text/html": [
       "<div>\n",
       "<style scoped>\n",
       "    .dataframe tbody tr th:only-of-type {\n",
       "        vertical-align: middle;\n",
       "    }\n",
       "\n",
       "    .dataframe tbody tr th {\n",
       "        vertical-align: top;\n",
       "    }\n",
       "\n",
       "    .dataframe thead th {\n",
       "        text-align: right;\n",
       "    }\n",
       "</style>\n",
       "<table border=\"1\" class=\"dataframe\">\n",
       "  <thead>\n",
       "    <tr style=\"text-align: right;\">\n",
       "      <th></th>\n",
       "      <th>Unnamed: 0</th>\n",
       "      <th>0</th>\n",
       "    </tr>\n",
       "  </thead>\n",
       "  <tbody>\n",
       "    <tr>\n",
       "      <th>181</th>\n",
       "      <td>181</td>\n",
       "      <td>SupaWote</td>\n",
       "    </tr>\n",
       "    <tr>\n",
       "      <th>182</th>\n",
       "      <td>182</td>\n",
       "      <td>IOwnItMovement</td>\n",
       "    </tr>\n",
       "    <tr>\n",
       "      <th>183</th>\n",
       "      <td>183</td>\n",
       "      <td>ajith_j_joshua</td>\n",
       "    </tr>\n",
       "    <tr>\n",
       "      <th>184</th>\n",
       "      <td>184</td>\n",
       "      <td>GMortyMakers</td>\n",
       "    </tr>\n",
       "    <tr>\n",
       "      <th>185</th>\n",
       "      <td>185</td>\n",
       "      <td>jamie_usha</td>\n",
       "    </tr>\n",
       "    <tr>\n",
       "      <th>186</th>\n",
       "      <td>186</td>\n",
       "      <td>elangeorgemusic</td>\n",
       "    </tr>\n",
       "    <tr>\n",
       "      <th>187</th>\n",
       "      <td>187</td>\n",
       "      <td>alienastromusic</td>\n",
       "    </tr>\n",
       "    <tr>\n",
       "      <th>188</th>\n",
       "      <td>188</td>\n",
       "      <td>7Tommic</td>\n",
       "    </tr>\n",
       "    <tr>\n",
       "      <th>189</th>\n",
       "      <td>189</td>\n",
       "      <td>MatthDe197</td>\n",
       "    </tr>\n",
       "    <tr>\n",
       "      <th>190</th>\n",
       "      <td>190</td>\n",
       "      <td>LRGraphics</td>\n",
       "    </tr>\n",
       "  </tbody>\n",
       "</table>\n",
       "</div>"
      ],
      "text/plain": [
       "     Unnamed: 0                0\n",
       "181         181         SupaWote\n",
       "182         182   IOwnItMovement\n",
       "183         183   ajith_j_joshua\n",
       "184         184     GMortyMakers\n",
       "185         185       jamie_usha\n",
       "186         186  elangeorgemusic\n",
       "187         187  alienastromusic\n",
       "188         188          7Tommic\n",
       "189         189       MatthDe197\n",
       "190         190       LRGraphics"
      ]
     },
     "execution_count": 17,
     "metadata": {},
     "output_type": "execute_result"
    }
   ],
   "source": [
    "num_t=randint(len(userlist)-10,len(userlist))\n",
    "new_followed_t=[]\n",
    "sleep(randint(5,6))\n",
    "for i in range(num_t):\n",
    "    res=api.create_friendship(userlist[i])\n",
    "    sleep(randint(4,8))\n",
    "    new_followed_t.append(userlist[i])\n",
    "    \n",
    "for i in range(num_t):\n",
    "    prev_t_user_list.append(new_followed_t[i])\n",
    "    \n",
    "updated_user_df_t = pd.DataFrame(prev_t_user_list)\n",
    "updated_user_df_t.to_csv('twitter.csv')\n",
    "\n",
    "data_t= pd.read_csv('twitter.csv')\n",
    "data_t.tail(10)"
   ]
  },
  {
   "cell_type": "code",
   "execution_count": null,
   "metadata": {},
   "outputs": [],
   "source": []
  },
  {
   "cell_type": "code",
   "execution_count": null,
   "metadata": {},
   "outputs": [],
   "source": []
  },
  {
   "cell_type": "code",
   "execution_count": null,
   "metadata": {},
   "outputs": [],
   "source": []
  }
 ],
 "metadata": {
  "kernelspec": {
   "display_name": "Python 3",
   "language": "python",
   "name": "python3"
  },
  "language_info": {
   "codemirror_mode": {
    "name": "ipython",
    "version": 2
   },
   "file_extension": ".py",
   "mimetype": "text/x-python",
   "name": "python",
   "nbconvert_exporter": "python",
   "pygments_lexer": "ipython2",
   "version": "2.7.5"
  }
 },
 "nbformat": 4,
 "nbformat_minor": 2
}
