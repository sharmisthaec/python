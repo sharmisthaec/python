{
 "cells": [
  {
   "cell_type": "code",
   "execution_count": null,
   "metadata": {},
   "outputs": [],
   "source": [
    "import pandas as pd\n",
    "df = pd.read_csv('mtcars_for_manymerge.csv')\n",
    "print (df)\n",
    "\n",
    "x = df['hp']\n",
    "y = df[\"cyl\"]\n",
    "print(x)\n",
    "\n",
    "x = df['hp']\n",
    "y = df['cyl']\n",
    "print(y)\n",
    "\n",
    "\n"
   ]
  },
  {
   "cell_type": "code",
   "execution_count": null,
   "metadata": {},
   "outputs": [],
   "source": [
    "x.corr(y)\n"
   ]
  }
 ],
 "metadata": {},
 "nbformat": 4,
 "nbformat_minor": 0
}