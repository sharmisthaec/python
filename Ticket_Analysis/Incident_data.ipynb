{
 "cells": [
  {
   "cell_type": "markdown",
   "metadata": {},
   "source": [
    "\n",
    "# Ticket Data\n",
    "\n",
    "## Workflow Stages\n",
    "__1. Read the dataset.__ \n",
    "\n",
    "__2. new column with hostname__\n",
    "\n",
    "__3. fields with datetime should be of type datetime.__\n"
   ]
  },
  {
   "cell_type": "markdown",
   "metadata": {},
   "source": [
    "### Importing the libraries"
   ]
  },
  {
   "cell_type": "code",
   "execution_count": 1,
   "metadata": {},
   "outputs": [],
   "source": [
    "# Data Visualization & Wrangling\n",
    "import pandas\n",
    "import pysnow\n",
    "\n",
    "# For changing the string type to datetime type\n",
    "import datetime"
   ]
  },
  {
   "cell_type": "markdown",
   "metadata": {},
   "source": [
    "### __1. Reading the dataset.__ "
   ]
  },
  {
   "cell_type": "code",
   "execution_count": 2,
   "metadata": {},
   "outputs": [],
   "source": [
    "#Reading the csv file\n",
    "data = pandas.read_csv(\"incident.csv\")"
   ]
  },
  {
   "cell_type": "markdown",
   "metadata": {},
   "source": [
    "### Getting the information about the data"
   ]
  },
  {
   "cell_type": "code",
   "execution_count": 3,
   "metadata": {},
   "outputs": [
    {
     "name": "stdout",
     "output_type": "stream",
     "text": [
      "<class 'pandas.core.frame.DataFrame'>\n",
      "RangeIndex: 19 entries, 0 to 18\n",
      "Data columns (total 9 columns):\n",
      "number               19 non-null object\n",
      "caller_id            19 non-null object\n",
      "description          19 non-null object\n",
      "short_description    19 non-null object\n",
      "sys_created_on       19 non-null object\n",
      "cmdb_ci              18 non-null object\n",
      "priority             19 non-null object\n",
      "assignment_group     19 non-null object\n",
      "severity             19 non-null object\n",
      "dtypes: object(9)\n",
      "memory usage: 1.4+ KB\n"
     ]
    }
   ],
   "source": [
    "data.info()"
   ]
  },
  {
   "cell_type": "code",
   "execution_count": 4,
   "metadata": {},
   "outputs": [
    {
     "data": {
      "text/html": [
       "<div>\n",
       "<style scoped>\n",
       "    .dataframe tbody tr th:only-of-type {\n",
       "        vertical-align: middle;\n",
       "    }\n",
       "\n",
       "    .dataframe tbody tr th {\n",
       "        vertical-align: top;\n",
       "    }\n",
       "\n",
       "    .dataframe thead th {\n",
       "        text-align: right;\n",
       "    }\n",
       "</style>\n",
       "<table border=\"1\" class=\"dataframe\">\n",
       "  <thead>\n",
       "    <tr style=\"text-align: right;\">\n",
       "      <th></th>\n",
       "      <th>number</th>\n",
       "      <th>caller_id</th>\n",
       "      <th>description</th>\n",
       "      <th>short_description</th>\n",
       "      <th>sys_created_on</th>\n",
       "      <th>cmdb_ci</th>\n",
       "      <th>priority</th>\n",
       "      <th>assignment_group</th>\n",
       "      <th>severity</th>\n",
       "    </tr>\n",
       "  </thead>\n",
       "  <tbody>\n",
       "    <tr>\n",
       "      <th>0</th>\n",
       "      <td>INC6110268</td>\n",
       "      <td>IBM NetCool</td>\n",
       "      <td>Summary: Oracle avh1002p Auto-Extend tablespac...</td>\n",
       "      <td>dbr32xjbx_A Oracle avh1002p Auto-Extend tables...</td>\n",
       "      <td>2020-02-03 12:29:29</td>\n",
       "      <td>dbr32xjbx</td>\n",
       "      <td>2 - Medium</td>\n",
       "      <td>E_XXX_XXX_DIST-DAT-DATABASE_IBM</td>\n",
       "      <td>3 - Low</td>\n",
       "    </tr>\n",
       "    <tr>\n",
       "      <th>1</th>\n",
       "      <td>INC6168056</td>\n",
       "      <td>IBM NetCool</td>\n",
       "      <td>ORGTICKETGROUP=cd4e614d0fd49600a8a0e388b1050eb...</td>\n",
       "      <td>dbq21gbfx High space used (75%. 25856 MB free)...</td>\n",
       "      <td>2020-02-17 04:19:07</td>\n",
       "      <td>DBQ21GBFX</td>\n",
       "      <td>3 - Low</td>\n",
       "      <td>E_XXX_XXX_DIST-DAT-DATABASE_IBM</td>\n",
       "      <td>3 - Low</td>\n",
       "    </tr>\n",
       "    <tr>\n",
       "      <th>2</th>\n",
       "      <td>INC6170398</td>\n",
       "      <td>IBM NetCool</td>\n",
       "      <td>ORGTICKETGROUP=494e614d0fd49600a8a0e388b1050eb...</td>\n",
       "      <td>dcp00cnhw Windows Service:ShellHWDetection has...</td>\n",
       "      <td>2020-02-17 13:23:39</td>\n",
       "      <td>DCP00CNHW</td>\n",
       "      <td>3 - Low</td>\n",
       "      <td>N_XXX_XXX_Dynamic_Automation_Support</td>\n",
       "      <td>3 - Low</td>\n",
       "    </tr>\n",
       "    <tr>\n",
       "      <th>3</th>\n",
       "      <td>INC6169794</td>\n",
       "      <td>IBM NetCool</td>\n",
       "      <td>Summary: CRITICAL JOB P01C35D HAS NOT RUN ON H...</td>\n",
       "      <td>A01A CRITICAL JOB P01C35D HAS NOT RUN ON HPDC</td>\n",
       "      <td>2020-02-17 11:46:29</td>\n",
       "      <td>AF Operator-N-P</td>\n",
       "      <td>2 - Medium</td>\n",
       "      <td>N_USA_XXX_CENTRAL ORDER ENTRY</td>\n",
       "      <td>3 - Low</td>\n",
       "    </tr>\n",
       "    <tr>\n",
       "      <th>4</th>\n",
       "      <td>INC6167105</td>\n",
       "      <td>IBM NetCool</td>\n",
       "      <td>Summary: Cleared and Re-fired: all_avgresp_gyn...</td>\n",
       "      <td>apl15xjbx Cleared and Re-fired: all_avgresp_gy...</td>\n",
       "      <td>2020-02-16 13:13:19</td>\n",
       "      <td>apl15xjbx</td>\n",
       "      <td>3 - Low</td>\n",
       "      <td>E_XXX_XXX_DIST-AHS-WEBMSC_IBM</td>\n",
       "      <td>3 - Low</td>\n",
       "    </tr>\n",
       "  </tbody>\n",
       "</table>\n",
       "</div>"
      ],
      "text/plain": [
       "       number    caller_id                                        description  \\\n",
       "0  INC6110268  IBM NetCool  Summary: Oracle avh1002p Auto-Extend tablespac...   \n",
       "1  INC6168056  IBM NetCool  ORGTICKETGROUP=cd4e614d0fd49600a8a0e388b1050eb...   \n",
       "2  INC6170398  IBM NetCool  ORGTICKETGROUP=494e614d0fd49600a8a0e388b1050eb...   \n",
       "3  INC6169794  IBM NetCool  Summary: CRITICAL JOB P01C35D HAS NOT RUN ON H...   \n",
       "4  INC6167105  IBM NetCool  Summary: Cleared and Re-fired: all_avgresp_gyn...   \n",
       "\n",
       "                                   short_description       sys_created_on  \\\n",
       "0  dbr32xjbx_A Oracle avh1002p Auto-Extend tables...  2020-02-03 12:29:29   \n",
       "1  dbq21gbfx High space used (75%. 25856 MB free)...  2020-02-17 04:19:07   \n",
       "2  dcp00cnhw Windows Service:ShellHWDetection has...  2020-02-17 13:23:39   \n",
       "3      A01A CRITICAL JOB P01C35D HAS NOT RUN ON HPDC  2020-02-17 11:46:29   \n",
       "4  apl15xjbx Cleared and Re-fired: all_avgresp_gy...  2020-02-16 13:13:19   \n",
       "\n",
       "           cmdb_ci    priority                      assignment_group severity  \n",
       "0        dbr32xjbx  2 - Medium       E_XXX_XXX_DIST-DAT-DATABASE_IBM  3 - Low  \n",
       "1        DBQ21GBFX     3 - Low       E_XXX_XXX_DIST-DAT-DATABASE_IBM  3 - Low  \n",
       "2        DCP00CNHW     3 - Low  N_XXX_XXX_Dynamic_Automation_Support  3 - Low  \n",
       "3  AF Operator-N-P  2 - Medium         N_USA_XXX_CENTRAL ORDER ENTRY  3 - Low  \n",
       "4        apl15xjbx     3 - Low         E_XXX_XXX_DIST-AHS-WEBMSC_IBM  3 - Low  "
      ]
     },
     "execution_count": 4,
     "metadata": {},
     "output_type": "execute_result"
    }
   ],
   "source": [
    "data.head()\n",
    "#We need to work with the column 'description' and 'sys_created_on'"
   ]
  },
  {
   "cell_type": "markdown",
   "metadata": {},
   "source": [
    "### __2. Creating new column 'hostname' from description field__"
   ]
  },
  {
   "cell_type": "code",
   "execution_count": 5,
   "metadata": {},
   "outputs": [],
   "source": [
    "# Extracting all the resource ids from the description of incidents\n",
    "data['HOSTNAME']=data['description'].str.extract('(ResourceId:\\s\\w+)')\n",
    "data['HOSTNAME']=data['HOSTNAME'].str.replace('ResourceId:\\s', '')"
   ]
  },
  {
   "cell_type": "code",
   "execution_count": 6,
   "metadata": {},
   "outputs": [
    {
     "data": {
      "text/html": [
       "<div>\n",
       "<style scoped>\n",
       "    .dataframe tbody tr th:only-of-type {\n",
       "        vertical-align: middle;\n",
       "    }\n",
       "\n",
       "    .dataframe tbody tr th {\n",
       "        vertical-align: top;\n",
       "    }\n",
       "\n",
       "    .dataframe thead th {\n",
       "        text-align: right;\n",
       "    }\n",
       "</style>\n",
       "<table border=\"1\" class=\"dataframe\">\n",
       "  <thead>\n",
       "    <tr style=\"text-align: right;\">\n",
       "      <th></th>\n",
       "      <th>number</th>\n",
       "      <th>caller_id</th>\n",
       "      <th>description</th>\n",
       "      <th>short_description</th>\n",
       "      <th>sys_created_on</th>\n",
       "      <th>cmdb_ci</th>\n",
       "      <th>priority</th>\n",
       "      <th>assignment_group</th>\n",
       "      <th>severity</th>\n",
       "      <th>HOSTNAME</th>\n",
       "    </tr>\n",
       "  </thead>\n",
       "  <tbody>\n",
       "    <tr>\n",
       "      <th>0</th>\n",
       "      <td>INC6110268</td>\n",
       "      <td>IBM NetCool</td>\n",
       "      <td>Summary: Oracle avh1002p Auto-Extend tablespac...</td>\n",
       "      <td>dbr32xjbx_A Oracle avh1002p Auto-Extend tables...</td>\n",
       "      <td>2020-02-03 12:29:29</td>\n",
       "      <td>dbr32xjbx</td>\n",
       "      <td>2 - Medium</td>\n",
       "      <td>E_XXX_XXX_DIST-DAT-DATABASE_IBM</td>\n",
       "      <td>3 - Low</td>\n",
       "      <td>dbr32xjbx_A</td>\n",
       "    </tr>\n",
       "    <tr>\n",
       "      <th>1</th>\n",
       "      <td>INC6168056</td>\n",
       "      <td>IBM NetCool</td>\n",
       "      <td>ORGTICKETGROUP=cd4e614d0fd49600a8a0e388b1050eb...</td>\n",
       "      <td>dbq21gbfx High space used (75%. 25856 MB free)...</td>\n",
       "      <td>2020-02-17 04:19:07</td>\n",
       "      <td>DBQ21GBFX</td>\n",
       "      <td>3 - Low</td>\n",
       "      <td>E_XXX_XXX_DIST-DAT-DATABASE_IBM</td>\n",
       "      <td>3 - Low</td>\n",
       "      <td>dbq21gbfx</td>\n",
       "    </tr>\n",
       "    <tr>\n",
       "      <th>2</th>\n",
       "      <td>INC6170398</td>\n",
       "      <td>IBM NetCool</td>\n",
       "      <td>ORGTICKETGROUP=494e614d0fd49600a8a0e388b1050eb...</td>\n",
       "      <td>dcp00cnhw Windows Service:ShellHWDetection has...</td>\n",
       "      <td>2020-02-17 13:23:39</td>\n",
       "      <td>DCP00CNHW</td>\n",
       "      <td>3 - Low</td>\n",
       "      <td>N_XXX_XXX_Dynamic_Automation_Support</td>\n",
       "      <td>3 - Low</td>\n",
       "      <td>dcp00cnhw</td>\n",
       "    </tr>\n",
       "    <tr>\n",
       "      <th>3</th>\n",
       "      <td>INC6169794</td>\n",
       "      <td>IBM NetCool</td>\n",
       "      <td>Summary: CRITICAL JOB P01C35D HAS NOT RUN ON H...</td>\n",
       "      <td>A01A CRITICAL JOB P01C35D HAS NOT RUN ON HPDC</td>\n",
       "      <td>2020-02-17 11:46:29</td>\n",
       "      <td>AF Operator-N-P</td>\n",
       "      <td>2 - Medium</td>\n",
       "      <td>N_USA_XXX_CENTRAL ORDER ENTRY</td>\n",
       "      <td>3 - Low</td>\n",
       "      <td>NaN</td>\n",
       "    </tr>\n",
       "    <tr>\n",
       "      <th>4</th>\n",
       "      <td>INC6167105</td>\n",
       "      <td>IBM NetCool</td>\n",
       "      <td>Summary: Cleared and Re-fired: all_avgresp_gyn...</td>\n",
       "      <td>apl15xjbx Cleared and Re-fired: all_avgresp_gy...</td>\n",
       "      <td>2020-02-16 13:13:19</td>\n",
       "      <td>apl15xjbx</td>\n",
       "      <td>3 - Low</td>\n",
       "      <td>E_XXX_XXX_DIST-AHS-WEBMSC_IBM</td>\n",
       "      <td>3 - Low</td>\n",
       "      <td>apl15xjbx</td>\n",
       "    </tr>\n",
       "  </tbody>\n",
       "</table>\n",
       "</div>"
      ],
      "text/plain": [
       "       number    caller_id                                        description  \\\n",
       "0  INC6110268  IBM NetCool  Summary: Oracle avh1002p Auto-Extend tablespac...   \n",
       "1  INC6168056  IBM NetCool  ORGTICKETGROUP=cd4e614d0fd49600a8a0e388b1050eb...   \n",
       "2  INC6170398  IBM NetCool  ORGTICKETGROUP=494e614d0fd49600a8a0e388b1050eb...   \n",
       "3  INC6169794  IBM NetCool  Summary: CRITICAL JOB P01C35D HAS NOT RUN ON H...   \n",
       "4  INC6167105  IBM NetCool  Summary: Cleared and Re-fired: all_avgresp_gyn...   \n",
       "\n",
       "                                   short_description       sys_created_on  \\\n",
       "0  dbr32xjbx_A Oracle avh1002p Auto-Extend tables...  2020-02-03 12:29:29   \n",
       "1  dbq21gbfx High space used (75%. 25856 MB free)...  2020-02-17 04:19:07   \n",
       "2  dcp00cnhw Windows Service:ShellHWDetection has...  2020-02-17 13:23:39   \n",
       "3      A01A CRITICAL JOB P01C35D HAS NOT RUN ON HPDC  2020-02-17 11:46:29   \n",
       "4  apl15xjbx Cleared and Re-fired: all_avgresp_gy...  2020-02-16 13:13:19   \n",
       "\n",
       "           cmdb_ci    priority                      assignment_group severity  \\\n",
       "0        dbr32xjbx  2 - Medium       E_XXX_XXX_DIST-DAT-DATABASE_IBM  3 - Low   \n",
       "1        DBQ21GBFX     3 - Low       E_XXX_XXX_DIST-DAT-DATABASE_IBM  3 - Low   \n",
       "2        DCP00CNHW     3 - Low  N_XXX_XXX_Dynamic_Automation_Support  3 - Low   \n",
       "3  AF Operator-N-P  2 - Medium         N_USA_XXX_CENTRAL ORDER ENTRY  3 - Low   \n",
       "4        apl15xjbx     3 - Low         E_XXX_XXX_DIST-AHS-WEBMSC_IBM  3 - Low   \n",
       "\n",
       "      HOSTNAME  \n",
       "0  dbr32xjbx_A  \n",
       "1    dbq21gbfx  \n",
       "2    dcp00cnhw  \n",
       "3          NaN  \n",
       "4    apl15xjbx  "
      ]
     },
     "execution_count": 6,
     "metadata": {},
     "output_type": "execute_result"
    }
   ],
   "source": [
    "data.head()\n",
    "#New column 'Hosts' has been added "
   ]
  },
  {
   "cell_type": "markdown",
   "metadata": {},
   "source": [
    "### Accessing the Database and fetching the server type from ServiceNow developer website"
   ]
  },
  {
   "cell_type": "code",
   "execution_count": 7,
   "metadata": {},
   "outputs": [
    {
     "ename": "ValueError",
     "evalue": "No JSON object could be decoded",
     "output_type": "error",
     "traceback": [
      "\u001b[0;31m---------------------------------------------------------------------------\u001b[0m",
      "\u001b[0;31mValueError\u001b[0m                                Traceback (most recent call last)",
      "\u001b[0;32m<ipython-input-7-74bd0ff6205f>\u001b[0m in \u001b[0;36m<module>\u001b[0;34m()\u001b[0m\n\u001b[1;32m     27\u001b[0m \u001b[0;34m\u001b[0m\u001b[0m\n\u001b[1;32m     28\u001b[0m \u001b[0mresponse\u001b[0m \u001b[0;34m=\u001b[0m \u001b[0mc\u001b[0m\u001b[0;34m.\u001b[0m\u001b[0mresource\u001b[0m\u001b[0;34m(\u001b[0m\u001b[0mapi_path\u001b[0m\u001b[0;34m=\u001b[0m\u001b[0;34m'/table/cmdb_ci'\u001b[0m\u001b[0;34m)\u001b[0m\u001b[0;34m.\u001b[0m\u001b[0mget\u001b[0m\u001b[0;34m(\u001b[0m\u001b[0;34m)\u001b[0m\u001b[0;34m\u001b[0m\u001b[0m\n\u001b[0;32m---> 29\u001b[0;31m \u001b[0mdata_1\u001b[0m \u001b[0;34m=\u001b[0m \u001b[0mpandas\u001b[0m\u001b[0;34m.\u001b[0m\u001b[0mDataFrame\u001b[0m\u001b[0;34m.\u001b[0m\u001b[0mfrom_dict\u001b[0m\u001b[0;34m(\u001b[0m\u001b[0mresponse\u001b[0m\u001b[0;34m.\u001b[0m\u001b[0mall\u001b[0m\u001b[0;34m(\u001b[0m\u001b[0;34m)\u001b[0m\u001b[0;34m)\u001b[0m\u001b[0;34m\u001b[0m\u001b[0m\n\u001b[0m\u001b[1;32m     30\u001b[0m \u001b[0mdatanew\u001b[0m\u001b[0;34m=\u001b[0m\u001b[0mdata_1\u001b[0m\u001b[0;34m[\u001b[0m\u001b[0;34m[\u001b[0m\u001b[0;34m\"name\"\u001b[0m\u001b[0;34m,\u001b[0m\u001b[0;34m\"sys_class_name\"\u001b[0m\u001b[0;34m]\u001b[0m\u001b[0;34m]\u001b[0m\u001b[0;34m\u001b[0m\u001b[0m\n\u001b[1;32m     31\u001b[0m \u001b[0mdatanew\u001b[0m\u001b[0;34m.\u001b[0m\u001b[0mhead\u001b[0m\u001b[0;34m(\u001b[0m\u001b[0;34m)\u001b[0m\u001b[0;34m\u001b[0m\u001b[0m\n",
      "\u001b[0;32m/home/parwez/.local/lib/python2.7/site-packages/pysnow/response.pyc\u001b[0m in \u001b[0;36mall\u001b[0;34m(self)\u001b[0m\n\u001b[1;32m    184\u001b[0m             \u001b[0;32mreturn\u001b[0m \u001b[0mchain\u001b[0m\u001b[0;34m.\u001b[0m\u001b[0mfrom_iterable\u001b[0m\u001b[0;34m(\u001b[0m\u001b[0mself\u001b[0m\u001b[0;34m.\u001b[0m\u001b[0m_get_streamed_response\u001b[0m\u001b[0;34m(\u001b[0m\u001b[0;34m)\u001b[0m\u001b[0;34m)\u001b[0m\u001b[0;34m\u001b[0m\u001b[0m\n\u001b[1;32m    185\u001b[0m \u001b[0;34m\u001b[0m\u001b[0m\n\u001b[0;32m--> 186\u001b[0;31m         \u001b[0;32mreturn\u001b[0m \u001b[0mself\u001b[0m\u001b[0;34m.\u001b[0m\u001b[0m_get_buffered_response\u001b[0m\u001b[0;34m(\u001b[0m\u001b[0;34m)\u001b[0m\u001b[0;34m[\u001b[0m\u001b[0;36m0\u001b[0m\u001b[0;34m]\u001b[0m\u001b[0;34m\u001b[0m\u001b[0m\n\u001b[0m\u001b[1;32m    187\u001b[0m \u001b[0;34m\u001b[0m\u001b[0m\n\u001b[1;32m    188\u001b[0m     \u001b[0;32mdef\u001b[0m \u001b[0mfirst\u001b[0m\u001b[0;34m(\u001b[0m\u001b[0mself\u001b[0m\u001b[0;34m)\u001b[0m\u001b[0;34m:\u001b[0m\u001b[0;34m\u001b[0m\u001b[0m\n",
      "\u001b[0;32m/home/parwez/.local/lib/python2.7/site-packages/pysnow/response.pyc\u001b[0m in \u001b[0;36m_get_buffered_response\u001b[0;34m(self)\u001b[0m\n\u001b[1;32m    157\u001b[0m             \u001b[0;32mreturn\u001b[0m \u001b[0;34m[\u001b[0m\u001b[0;34m{\u001b[0m\u001b[0;34m\"status\"\u001b[0m\u001b[0;34m:\u001b[0m \u001b[0;34m\"record deleted\"\u001b[0m\u001b[0;34m}\u001b[0m\u001b[0;34m]\u001b[0m\u001b[0;34m,\u001b[0m \u001b[0;36m1\u001b[0m\u001b[0;34m\u001b[0m\u001b[0m\n\u001b[1;32m    158\u001b[0m \u001b[0;34m\u001b[0m\u001b[0m\n\u001b[0;32m--> 159\u001b[0;31m         \u001b[0mresult\u001b[0m \u001b[0;34m=\u001b[0m \u001b[0mself\u001b[0m\u001b[0;34m.\u001b[0m\u001b[0m_response\u001b[0m\u001b[0;34m.\u001b[0m\u001b[0mjson\u001b[0m\u001b[0;34m(\u001b[0m\u001b[0;34m)\u001b[0m\u001b[0;34m.\u001b[0m\u001b[0mget\u001b[0m\u001b[0;34m(\u001b[0m\u001b[0;34m\"result\"\u001b[0m\u001b[0;34m,\u001b[0m \u001b[0mNone\u001b[0m\u001b[0;34m)\u001b[0m\u001b[0;34m\u001b[0m\u001b[0m\n\u001b[0m\u001b[1;32m    160\u001b[0m \u001b[0;34m\u001b[0m\u001b[0m\n\u001b[1;32m    161\u001b[0m         \u001b[0;32mif\u001b[0m \u001b[0mresult\u001b[0m \u001b[0;32mis\u001b[0m \u001b[0mNone\u001b[0m\u001b[0;34m:\u001b[0m\u001b[0;34m\u001b[0m\u001b[0m\n",
      "\u001b[0;32m/home/parwez/.local/lib/python2.7/site-packages/requests/models.pyc\u001b[0m in \u001b[0;36mjson\u001b[0;34m(self, **kwargs)\u001b[0m\n\u001b[1;32m    896\u001b[0m                     \u001b[0;31m# used.\u001b[0m\u001b[0;34m\u001b[0m\u001b[0;34m\u001b[0m\u001b[0m\n\u001b[1;32m    897\u001b[0m                     \u001b[0;32mpass\u001b[0m\u001b[0;34m\u001b[0m\u001b[0m\n\u001b[0;32m--> 898\u001b[0;31m         \u001b[0;32mreturn\u001b[0m \u001b[0mcomplexjson\u001b[0m\u001b[0;34m.\u001b[0m\u001b[0mloads\u001b[0m\u001b[0;34m(\u001b[0m\u001b[0mself\u001b[0m\u001b[0;34m.\u001b[0m\u001b[0mtext\u001b[0m\u001b[0;34m,\u001b[0m \u001b[0;34m**\u001b[0m\u001b[0mkwargs\u001b[0m\u001b[0;34m)\u001b[0m\u001b[0;34m\u001b[0m\u001b[0m\n\u001b[0m\u001b[1;32m    899\u001b[0m \u001b[0;34m\u001b[0m\u001b[0m\n\u001b[1;32m    900\u001b[0m     \u001b[0;34m@\u001b[0m\u001b[0mproperty\u001b[0m\u001b[0;34m\u001b[0m\u001b[0m\n",
      "\u001b[0;32m/usr/lib64/python2.7/json/__init__.pyc\u001b[0m in \u001b[0;36mloads\u001b[0;34m(s, encoding, cls, object_hook, parse_float, parse_int, parse_constant, object_pairs_hook, **kw)\u001b[0m\n\u001b[1;32m    336\u001b[0m             \u001b[0mparse_int\u001b[0m \u001b[0;32mis\u001b[0m \u001b[0mNone\u001b[0m \u001b[0;32mand\u001b[0m \u001b[0mparse_float\u001b[0m \u001b[0;32mis\u001b[0m \u001b[0mNone\u001b[0m \u001b[0;32mand\u001b[0m\u001b[0;34m\u001b[0m\u001b[0m\n\u001b[1;32m    337\u001b[0m             parse_constant is None and object_pairs_hook is None and not kw):\n\u001b[0;32m--> 338\u001b[0;31m         \u001b[0;32mreturn\u001b[0m \u001b[0m_default_decoder\u001b[0m\u001b[0;34m.\u001b[0m\u001b[0mdecode\u001b[0m\u001b[0;34m(\u001b[0m\u001b[0ms\u001b[0m\u001b[0;34m)\u001b[0m\u001b[0;34m\u001b[0m\u001b[0m\n\u001b[0m\u001b[1;32m    339\u001b[0m     \u001b[0;32mif\u001b[0m \u001b[0mcls\u001b[0m \u001b[0;32mis\u001b[0m \u001b[0mNone\u001b[0m\u001b[0;34m:\u001b[0m\u001b[0;34m\u001b[0m\u001b[0m\n\u001b[1;32m    340\u001b[0m         \u001b[0mcls\u001b[0m \u001b[0;34m=\u001b[0m \u001b[0mJSONDecoder\u001b[0m\u001b[0;34m\u001b[0m\u001b[0m\n",
      "\u001b[0;32m/usr/lib64/python2.7/json/decoder.pyc\u001b[0m in \u001b[0;36mdecode\u001b[0;34m(self, s, _w)\u001b[0m\n\u001b[1;32m    364\u001b[0m \u001b[0;34m\u001b[0m\u001b[0m\n\u001b[1;32m    365\u001b[0m         \"\"\"\n\u001b[0;32m--> 366\u001b[0;31m         \u001b[0mobj\u001b[0m\u001b[0;34m,\u001b[0m \u001b[0mend\u001b[0m \u001b[0;34m=\u001b[0m \u001b[0mself\u001b[0m\u001b[0;34m.\u001b[0m\u001b[0mraw_decode\u001b[0m\u001b[0;34m(\u001b[0m\u001b[0ms\u001b[0m\u001b[0;34m,\u001b[0m \u001b[0midx\u001b[0m\u001b[0;34m=\u001b[0m\u001b[0m_w\u001b[0m\u001b[0;34m(\u001b[0m\u001b[0ms\u001b[0m\u001b[0;34m,\u001b[0m \u001b[0;36m0\u001b[0m\u001b[0;34m)\u001b[0m\u001b[0;34m.\u001b[0m\u001b[0mend\u001b[0m\u001b[0;34m(\u001b[0m\u001b[0;34m)\u001b[0m\u001b[0;34m)\u001b[0m\u001b[0;34m\u001b[0m\u001b[0m\n\u001b[0m\u001b[1;32m    367\u001b[0m         \u001b[0mend\u001b[0m \u001b[0;34m=\u001b[0m \u001b[0m_w\u001b[0m\u001b[0;34m(\u001b[0m\u001b[0ms\u001b[0m\u001b[0;34m,\u001b[0m \u001b[0mend\u001b[0m\u001b[0;34m)\u001b[0m\u001b[0;34m.\u001b[0m\u001b[0mend\u001b[0m\u001b[0;34m(\u001b[0m\u001b[0;34m)\u001b[0m\u001b[0;34m\u001b[0m\u001b[0m\n\u001b[1;32m    368\u001b[0m         \u001b[0;32mif\u001b[0m \u001b[0mend\u001b[0m \u001b[0;34m!=\u001b[0m \u001b[0mlen\u001b[0m\u001b[0;34m(\u001b[0m\u001b[0ms\u001b[0m\u001b[0;34m)\u001b[0m\u001b[0;34m:\u001b[0m\u001b[0;34m\u001b[0m\u001b[0m\n",
      "\u001b[0;32m/usr/lib64/python2.7/json/decoder.pyc\u001b[0m in \u001b[0;36mraw_decode\u001b[0;34m(self, s, idx)\u001b[0m\n\u001b[1;32m    382\u001b[0m             \u001b[0mobj\u001b[0m\u001b[0;34m,\u001b[0m \u001b[0mend\u001b[0m \u001b[0;34m=\u001b[0m \u001b[0mself\u001b[0m\u001b[0;34m.\u001b[0m\u001b[0mscan_once\u001b[0m\u001b[0;34m(\u001b[0m\u001b[0ms\u001b[0m\u001b[0;34m,\u001b[0m \u001b[0midx\u001b[0m\u001b[0;34m)\u001b[0m\u001b[0;34m\u001b[0m\u001b[0m\n\u001b[1;32m    383\u001b[0m         \u001b[0;32mexcept\u001b[0m \u001b[0mStopIteration\u001b[0m\u001b[0;34m:\u001b[0m\u001b[0;34m\u001b[0m\u001b[0m\n\u001b[0;32m--> 384\u001b[0;31m             \u001b[0;32mraise\u001b[0m \u001b[0mValueError\u001b[0m\u001b[0;34m(\u001b[0m\u001b[0;34m\"No JSON object could be decoded\"\u001b[0m\u001b[0;34m)\u001b[0m\u001b[0;34m\u001b[0m\u001b[0m\n\u001b[0m\u001b[1;32m    385\u001b[0m         \u001b[0;32mreturn\u001b[0m \u001b[0mobj\u001b[0m\u001b[0;34m,\u001b[0m \u001b[0mend\u001b[0m\u001b[0;34m\u001b[0m\u001b[0m\n",
      "\u001b[0;31mValueError\u001b[0m: No JSON object could be decoded"
     ]
    }
   ],
   "source": [
    "import cred\n",
    "class_name_list=[]\n",
    "c = pysnow.Client(instance='dev76764', user=cred.user, password=cred.password) #Creting the connection\n",
    "\n",
    "# for item in list(data['HOSTNAME']):\n",
    "#     response = c.resource(api_path='/table/cmdb_ci').get(query={'name': item}) #Accessing the database table #u'name': u'dcp00cnhw'\n",
    "    \n",
    "    \n",
    "#     #Handling the exception\n",
    "#     try :\n",
    "#         class_name = response[\"sys_class_name\"][8:].split(\"_\") #u'sys_class_name': u'cmdb_ci_win_server'\n",
    "#         class_name = \" \".join(class_name)\n",
    "#         class_name = class_name.encode(\"UTF-8\").upper()\n",
    "#         class_name_list.append(class_name)\n",
    "        \n",
    "#     except Exception :\n",
    "        \n",
    "#         class_name_list.append(\"No Record\")\n",
    "        \n",
    "# item='dcp00cnhw'\n",
    "# response = c.resource(api_path='/table/cmdb_ci').get(query={'name': item}, stream=True)\n",
    "# response.one()\n",
    "\n",
    "# response[\"sys_class_name\"][8:]\n",
    "\n",
    "\n",
    "\n",
    "response = c.resource(api_path='/table/cmdb_ci').get()\n",
    "data_1 = pandas.DataFrame.from_dict(response.all())\n",
    "datanew=data_1[[\"name\",\"sys_class_name\"]]\n",
    "datanew.head()\n",
    "data.head()\n",
    "datanew.rename(columns = {'name':'HOSTNAME',\"sys_class_name\":\"Class\"}, inplace = True) \n",
    "datanew.head()\n",
    "data_merged = pandas.merge(data, datanew, on='HOSTNAME', how='inner')\n",
    "data_merged.head(20)\n"
   ]
  },
  {
   "cell_type": "code",
   "execution_count": null,
   "metadata": {},
   "outputs": [],
   "source": [
    "# data[\"Class\"]=pandas.DataFrame(class_name_list)"
   ]
  },
  {
   "cell_type": "code",
   "execution_count": null,
   "metadata": {},
   "outputs": [],
   "source": [
    "data.head(10)"
   ]
  },
  {
   "cell_type": "markdown",
   "metadata": {},
   "source": [
    "### __3. Converting datetime fields from string type to datetime type.__"
   ]
  },
  {
   "cell_type": "code",
   "execution_count": null,
   "metadata": {},
   "outputs": [],
   "source": [
    "#Converting 'sys_created_on' from string type to datetime type\n",
    "data[\"sys_created_on\"] = pandas.to_datetime(data[\"sys_created_on\"])"
   ]
  },
  {
   "cell_type": "markdown",
   "metadata": {},
   "source": [
    "#### Here we need to change the 'sys_created_on' type from string type to datetime type   "
   ]
  },
  {
   "cell_type": "code",
   "execution_count": null,
   "metadata": {},
   "outputs": [],
   "source": [
    "data.info()\n",
    "#Here 'sys_created_on' changed to datetime type"
   ]
  },
  {
   "cell_type": "markdown",
   "metadata": {},
   "source": [
    "### __4. Accessing the mariadb.__"
   ]
  },
  {
   "cell_type": "code",
   "execution_count": 10,
   "metadata": {},
   "outputs": [
    {
     "ename": "AttributeError",
     "evalue": "'NoneType' object has no attribute 'encoding'",
     "output_type": "error",
     "traceback": [
      "\u001b[0;31m---------------------------------------------------------------------------\u001b[0m",
      "\u001b[0;31mAttributeError\u001b[0m                            Traceback (most recent call last)",
      "\u001b[0;32m<ipython-input-10-888bb6769772>\u001b[0m in \u001b[0;36m<module>\u001b[0;34m()\u001b[0m\n\u001b[1;32m      5\u001b[0m                              \u001b[0mdb\u001b[0m\u001b[0;34m=\u001b[0m\u001b[0;34m'my_db'\u001b[0m\u001b[0;34m,\u001b[0m\u001b[0;34m\u001b[0m\u001b[0m\n\u001b[1;32m      6\u001b[0m                              \u001b[0mcharset\u001b[0m\u001b[0;34m=\u001b[0m\u001b[0;34m'tf8mb4'\u001b[0m\u001b[0;34m,\u001b[0m\u001b[0;34m\u001b[0m\u001b[0m\n\u001b[0;32m----> 7\u001b[0;31m                              cursorclass=pymysql.cursors.DictCursor)\n\u001b[0m\u001b[1;32m      8\u001b[0m \u001b[0;34m\u001b[0m\u001b[0m\n\u001b[1;32m      9\u001b[0m \u001b[0;34m\u001b[0m\u001b[0m\n",
      "\u001b[0;32m/home/parwez/.local/lib/python2.7/site-packages/pymysql/__init__.pyc\u001b[0m in \u001b[0;36mConnect\u001b[0;34m(*args, **kwargs)\u001b[0m\n\u001b[1;32m     92\u001b[0m     \"\"\"\n\u001b[1;32m     93\u001b[0m     \u001b[0;32mfrom\u001b[0m \u001b[0;34m.\u001b[0m\u001b[0mconnections\u001b[0m \u001b[0;32mimport\u001b[0m \u001b[0mConnection\u001b[0m\u001b[0;34m\u001b[0m\u001b[0m\n\u001b[0;32m---> 94\u001b[0;31m     \u001b[0;32mreturn\u001b[0m \u001b[0mConnection\u001b[0m\u001b[0;34m(\u001b[0m\u001b[0;34m*\u001b[0m\u001b[0margs\u001b[0m\u001b[0;34m,\u001b[0m \u001b[0;34m**\u001b[0m\u001b[0mkwargs\u001b[0m\u001b[0;34m)\u001b[0m\u001b[0;34m\u001b[0m\u001b[0m\n\u001b[0m\u001b[1;32m     95\u001b[0m \u001b[0;34m\u001b[0m\u001b[0m\n\u001b[1;32m     96\u001b[0m \u001b[0;32mfrom\u001b[0m \u001b[0;34m.\u001b[0m \u001b[0;32mimport\u001b[0m \u001b[0mconnections\u001b[0m \u001b[0;32mas\u001b[0m \u001b[0m_orig_conn\u001b[0m\u001b[0;34m\u001b[0m\u001b[0m\n",
      "\u001b[0;32m/home/parwez/.local/lib/python2.7/site-packages/pymysql/connections.pyc\u001b[0m in \u001b[0;36m__init__\u001b[0;34m(self, host, user, password, database, port, unix_socket, charset, sql_mode, read_default_file, conv, use_unicode, client_flag, cursorclass, init_command, connect_timeout, ssl, read_default_group, compress, named_pipe, autocommit, db, passwd, local_infile, max_allowed_packet, defer_connect, auth_plugin_map, read_timeout, write_timeout, bind_address, binary_prefix, program_name, server_public_key)\u001b[0m\n\u001b[1;32m    281\u001b[0m             \u001b[0mself\u001b[0m\u001b[0;34m.\u001b[0m\u001b[0muse_unicode\u001b[0m \u001b[0;34m=\u001b[0m \u001b[0muse_unicode\u001b[0m\u001b[0;34m\u001b[0m\u001b[0m\n\u001b[1;32m    282\u001b[0m \u001b[0;34m\u001b[0m\u001b[0m\n\u001b[0;32m--> 283\u001b[0;31m         \u001b[0mself\u001b[0m\u001b[0;34m.\u001b[0m\u001b[0mencoding\u001b[0m \u001b[0;34m=\u001b[0m \u001b[0mcharset_by_name\u001b[0m\u001b[0;34m(\u001b[0m\u001b[0mself\u001b[0m\u001b[0;34m.\u001b[0m\u001b[0mcharset\u001b[0m\u001b[0;34m)\u001b[0m\u001b[0;34m.\u001b[0m\u001b[0mencoding\u001b[0m\u001b[0;34m\u001b[0m\u001b[0m\n\u001b[0m\u001b[1;32m    284\u001b[0m \u001b[0;34m\u001b[0m\u001b[0m\n\u001b[1;32m    285\u001b[0m         \u001b[0mclient_flag\u001b[0m \u001b[0;34m|=\u001b[0m \u001b[0mCLIENT\u001b[0m\u001b[0;34m.\u001b[0m\u001b[0mCAPABILITIES\u001b[0m\u001b[0;34m\u001b[0m\u001b[0m\n",
      "\u001b[0;31mAttributeError\u001b[0m: 'NoneType' object has no attribute 'encoding'"
     ]
    }
   ],
   "source": [
    "import pymysql.cursors\n",
    "connection = pymysql.connect(host='localhost',\n",
    "                             user='parsa',\n",
    "                             password='Welcome123@',\n",
    "                             db='my_db',\n",
    "                             charset='tf8mb4',\n",
    "                             cursorclass=pymysql.cursors.DictCursor)\n",
    "\n",
    "\n",
    "with connection.cursor() as cursor:\n",
    "\n",
    "    cursor.execute(\"\"\"\n",
    "                        insert into students(student_id,student_name,admission_date)\n",
    "                        values (%s,'%s',%s)\n",
    "                        \"\"\"%(2, 'Andrea',2020-01-01))\n",
    "    \n",
    "connection.commit()\n",
    "\n",
    "with connection.cursor() as cursor:\n",
    "    \n",
    "    cursor.execute(\"\"\"\n",
    "                        select * from students;\n",
    "                            \"\"\"\n",
    "                            )\n",
    "    result=cursor.fetchall()\n",
    "\n",
    "result"
   ]
  },
  {
   "cell_type": "code",
   "execution_count": 9,
   "metadata": {},
   "outputs": [
    {
     "ename": "NameError",
     "evalue": "name 'result' is not defined",
     "output_type": "error",
     "traceback": [
      "\u001b[0;31m---------------------------------------------------------------------------\u001b[0m",
      "\u001b[0;31mNameError\u001b[0m                                 Traceback (most recent call last)",
      "\u001b[0;32m<ipython-input-9-c6c5f6e61fa6>\u001b[0m in \u001b[0;36m<module>\u001b[0;34m()\u001b[0m\n\u001b[0;32m----> 1\u001b[0;31m \u001b[0mtable_df\u001b[0m \u001b[0;34m=\u001b[0m \u001b[0mpandas\u001b[0m\u001b[0;34m.\u001b[0m\u001b[0mDataFrame\u001b[0m\u001b[0;34m.\u001b[0m\u001b[0mfrom_dict\u001b[0m\u001b[0;34m(\u001b[0m\u001b[0mresult\u001b[0m\u001b[0;34m)\u001b[0m\u001b[0;34m\u001b[0m\u001b[0m\n\u001b[0m\u001b[1;32m      2\u001b[0m \u001b[0mtable_df\u001b[0m\u001b[0;34m\u001b[0m\u001b[0m\n",
      "\u001b[0;31mNameError\u001b[0m: name 'result' is not defined"
     ]
    }
   ],
   "source": [
    "table_df = pandas.DataFrame.from_dict(result)\n",
    "table_df"
   ]
  },
  {
   "cell_type": "code",
   "execution_count": null,
   "metadata": {},
   "outputs": [],
   "source": []
  }
 ],
 "metadata": {
  "kernelspec": {
   "display_name": "Python 2",
   "language": "python",
   "name": "python2"
  },
  "language_info": {
   "codemirror_mode": {
    "name": "ipython",
    "version": 2
   },
   "file_extension": ".py",
   "mimetype": "text/x-python",
   "name": "python",
   "nbconvert_exporter": "python",
   "pygments_lexer": "ipython2",
   "version": "2.7.5"
  }
 },
 "nbformat": 4,
 "nbformat_minor": 4
}
