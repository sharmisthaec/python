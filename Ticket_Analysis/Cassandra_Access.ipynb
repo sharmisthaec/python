{
 "cells": [
  {
   "cell_type": "code",
   "execution_count": 1,
   "metadata": {},
   "outputs": [
    {
     "name": "stderr",
     "output_type": "stream",
     "text": [
      ":0: UserWarning: You do not have a working installation of the service_identity module: 'cannot import name opentype'.  Please install it from <https://pypi.python.org/pypi/service_identity> and make sure all of its dependencies are satisfied.  Without the service_identity module, Twisted can perform only rudimentary TLS client hostname verification.  Many valid certificate/hostname mappings may be rejected.\n"
     ]
    },
    {
     "data": {
      "text/plain": [
       "<cassandra.cluster.Session at 0x7f9f19fbd710>"
      ]
     },
     "execution_count": 1,
     "metadata": {},
     "output_type": "execute_result"
    }
   ],
   "source": [
    "#Importing the library\n",
    "from cassandra.cluster import Cluster \n",
    "cluster = Cluster()\n",
    "conn = cluster.connect('myspace') #Creating connection with Cassandra\n",
    "conn"
   ]
  },
  {
   "cell_type": "code",
   "execution_count": 2,
   "metadata": {},
   "outputs": [
    {
     "data": {
      "text/plain": [
       "<cassandra.cluster.ResultSet at 0x7f9f44058490>"
      ]
     },
     "execution_count": 2,
     "metadata": {},
     "output_type": "execute_result"
    }
   ],
   "source": [
    "#Creating employees table\n",
    "conn.execute(\"\"\"CREATE TABLE employees ( emp_id int PRIMARY KEY, \n",
    "              emp_name text, \n",
    "              emp_city text, \n",
    "              emp_sal varint, \n",
    "              emp_phone varint )\"\"\"\n",
    ")"
   ]
  },
  {
   "cell_type": "code",
   "execution_count": 3,
   "metadata": {},
   "outputs": [
    {
     "data": {
      "text/plain": [
       "<cassandra.cluster.ResultSet at 0x7f9f18fa07d0>"
      ]
     },
     "execution_count": 3,
     "metadata": {},
     "output_type": "execute_result"
    }
   ],
   "source": [
    "#Inserting the values inside the table\n",
    "conn.execute(\n",
    "    \"\"\"BEGIN BATCH \n",
    "    INSERT INTO employees (emp_id, emp_city, emp_name, emp_phone, emp_sal) \n",
    "    VALUES (1, 'Bangalore', 'Ajay', 123890, 45000); \n",
    "    INSERT INTO employees (emp_id, emp_city, emp_name, emp_phone, emp_sal) \n",
    "    VALUES (2, 'Chennai', 'Robin', 324878, 50000); \n",
    "    INSERT INTO employees (emp_id, emp_city, emp_name, emp_phone, emp_sal) \n",
    "    VALUES (3, 'Hyderabad', 'Raj', 453465, 60000); APPLY BATCH \"\"\")"
   ]
  },
  {
   "cell_type": "code",
   "execution_count": 4,
   "metadata": {},
   "outputs": [
    {
     "data": {
      "text/plain": [
       "[Row(emp_id=1, emp_city=u'Bangalore', emp_name=u'Ajay', emp_phone=123890, emp_sal=45000),\n",
       " Row(emp_id=2, emp_city=u'Chennai', emp_name=u'Robin', emp_phone=324878, emp_sal=50000),\n",
       " Row(emp_id=3, emp_city=u'Hyderabad', emp_name=u'Raj', emp_phone=453465, emp_sal=60000)]"
      ]
     },
     "execution_count": 4,
     "metadata": {},
     "output_type": "execute_result"
    }
   ],
   "source": [
    "result = conn.execute(\"SELECT * FROM employees\")\n",
    "result = list(result)\n",
    "result"
   ]
  },
  {
   "cell_type": "code",
   "execution_count": 5,
   "metadata": {},
   "outputs": [
    {
     "name": "stdout",
     "output_type": "stream",
     "text": [
      "(1, u'Bangalore', u'Ajay', 123890, 45000)\n",
      "(2, u'Chennai', u'Robin', 324878, 50000)\n",
      "(3, u'Hyderabad', u'Raj', 453465, 60000)\n"
     ]
    }
   ],
   "source": [
    "for row in result:\n",
    "    print(row.emp_id, row.emp_city, row.emp_name, row.emp_phone, row.emp_sal)"
   ]
  },
  {
   "cell_type": "code",
   "execution_count": 6,
   "metadata": {},
   "outputs": [
    {
     "data": {
      "text/html": [
       "<div>\n",
       "<style scoped>\n",
       "    .dataframe tbody tr th:only-of-type {\n",
       "        vertical-align: middle;\n",
       "    }\n",
       "\n",
       "    .dataframe tbody tr th {\n",
       "        vertical-align: top;\n",
       "    }\n",
       "\n",
       "    .dataframe thead th {\n",
       "        text-align: right;\n",
       "    }\n",
       "</style>\n",
       "<table border=\"1\" class=\"dataframe\">\n",
       "  <thead>\n",
       "    <tr style=\"text-align: right;\">\n",
       "      <th></th>\n",
       "      <th>emp_id</th>\n",
       "      <th>emp_city</th>\n",
       "      <th>emp_name</th>\n",
       "      <th>emp_phone</th>\n",
       "      <th>emp_sal</th>\n",
       "    </tr>\n",
       "  </thead>\n",
       "  <tbody>\n",
       "    <tr>\n",
       "      <th>0</th>\n",
       "      <td>1</td>\n",
       "      <td>Bangalore</td>\n",
       "      <td>Ajay</td>\n",
       "      <td>123890</td>\n",
       "      <td>45000</td>\n",
       "    </tr>\n",
       "    <tr>\n",
       "      <th>1</th>\n",
       "      <td>2</td>\n",
       "      <td>Chennai</td>\n",
       "      <td>Robin</td>\n",
       "      <td>324878</td>\n",
       "      <td>50000</td>\n",
       "    </tr>\n",
       "    <tr>\n",
       "      <th>2</th>\n",
       "      <td>3</td>\n",
       "      <td>Hyderabad</td>\n",
       "      <td>Raj</td>\n",
       "      <td>453465</td>\n",
       "      <td>60000</td>\n",
       "    </tr>\n",
       "  </tbody>\n",
       "</table>\n",
       "</div>"
      ],
      "text/plain": [
       "   emp_id   emp_city emp_name  emp_phone  emp_sal\n",
       "0       1  Bangalore     Ajay     123890    45000\n",
       "1       2    Chennai    Robin     324878    50000\n",
       "2       3  Hyderabad      Raj     453465    60000"
      ]
     },
     "execution_count": 6,
     "metadata": {},
     "output_type": "execute_result"
    }
   ],
   "source": [
    "import pandas\n",
    "df = pandas.DataFrame(list(result))\n",
    "df"
   ]
  },
  {
   "cell_type": "code",
   "execution_count": 7,
   "metadata": {},
   "outputs": [
    {
     "data": {
      "text/plain": [
       "<cassandra.cluster.ResultSet at 0x7f9f00b18c90>"
      ]
     },
     "execution_count": 7,
     "metadata": {},
     "output_type": "execute_result"
    }
   ],
   "source": [
    "conn.execute(\"DROP TABLE EMPLOYEES\")"
   ]
  },
  {
   "cell_type": "code",
   "execution_count": null,
   "metadata": {},
   "outputs": [],
   "source": []
  },
  {
   "cell_type": "code",
   "execution_count": null,
   "metadata": {},
   "outputs": [],
   "source": []
  },
  {
   "cell_type": "code",
   "execution_count": null,
   "metadata": {},
   "outputs": [],
   "source": []
  },
  {
   "cell_type": "code",
   "execution_count": null,
   "metadata": {},
   "outputs": [],
   "source": []
  }
 ],
 "metadata": {
  "kernelspec": {
   "display_name": "Python 2",
   "language": "python",
   "name": "python2"
  },
  "language_info": {
   "codemirror_mode": {
    "name": "ipython",
    "version": 2
   },
   "file_extension": ".py",
   "mimetype": "text/x-python",
   "name": "python",
   "nbconvert_exporter": "python",
   "pygments_lexer": "ipython2",
   "version": "2.7.5"
  }
 },
 "nbformat": 4,
 "nbformat_minor": 2
}
