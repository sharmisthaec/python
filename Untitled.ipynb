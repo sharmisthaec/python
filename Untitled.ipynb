{
 "cells": [
  {
   "cell_type": "code",
   "execution_count": 2,
   "metadata": {},
   "outputs": [],
   "source": [
    "import requests\n",
    "from bs4 import BeautifulSoup\n",
    "import facebook\n",
    "import random\n",
    "import os\n",
    "import tweepy\n",
    "import instabot\n",
    "\n",
    "from datetime import datetime"
   ]
  },
  {
   "cell_type": "code",
   "execution_count": 3,
   "metadata": {},
   "outputs": [
    {
     "name": "stdout",
     "output_type": "stream",
     "text": [
      "https://www.limeville.com/all-quotes/i-hate-you-quotes/775/\n"
     ]
    }
   ],
   "source": [
    "quotes_url= 'https://www.limeville.com/category/all-quotes/page/'+str(random.choice(list(range(1,26))))\n",
    "shayari_url='https://www.limeville.com/category/all-shayari/page/'+str(random.choice(list(range(1,20))))\n",
    "status_url='https://www.limeville.com/category/all-status/page/'+str(random.choice(list(range(1,12))))\n",
    "\n",
    "scrap_url=random.choice([quotes_url,shayari_url,status_url])\n",
    "\n",
    "\n",
    "scrap_page=requests.get(scrap_url)\n",
    "soup=BeautifulSoup(scrap_page.text,\"html.parser\")\n",
    "post_url=[]\n",
    "for post in soup.find_all('article', class_='post'):\n",
    "\n",
    "        post_url.append(post.find('h2', class_='entry-title').a[\"href\"])\n",
    "current_post_url=random.choice(post_url)\n",
    "\n",
    "print(current_post_url)\n",
    "\n"
   ]
  },
  {
   "cell_type": "code",
   "execution_count": 7,
   "metadata": {},
   "outputs": [],
   "source": [
    "url=requests.get(current_post_url)\n",
    "soup=BeautifulSoup(url.text,\"html.parser\")\n",
    "post = soup.find('article', class_='post')\n",
    "content = post.find('div', class_='entry-content').p.text.strip()\n",
    "thumb = post.find('div', class_='entry-thumbnail').img['data-src']\n",
    "tags=post.find_all('span',class_='tags-links')\n",
    "tag_list=[]\n",
    "for tag in tags:\n",
    "    links = tag.find_all('a')\n",
    "    for link in links:\n",
    "        tag_list.append(link.text.strip())\n",
    "\n",
    "c=\"\"\n",
    "for item in tag_list:\n",
    "\t\n",
    "\tc=c+\" \"+\"#\"+str(item)\n"
   ]
  },
  {
   "cell_type": "code",
   "execution_count": 9,
   "metadata": {},
   "outputs": [
    {
     "name": "stdout",
     "output_type": "stream",
     "text": [
      "My heart is pink ‘ bubbly, innocent, alive and throbbing with love. Yours is black ‘ deceiving, manipulative, unreliable and full of evil. I hate you.  #SundayMorning #SundayVibes #SundayMotivation #SundayThoughts #SundayQuotes #IHateYouQuotes via https://www.limeville.com\n"
     ]
    }
   ],
   "source": [
    "\n",
    "    \n",
    "entry_footer=soup.find('footer', class_='entry-footer')\n",
    "title = entry_footer.find('a').text.strip()\n",
    "hashtitle=\"#\"+title.replace(' ','')\n",
    "img=requests.get(thumb, stream=True).raw\n",
    "\n",
    "day_name=datetime.today().strftime('%A')\n",
    "key=[\"Morning\",\"Vibes\",\"Motivation\",\"Thoughts\",\"Quotes\"]\n",
    "todays_tags=\" \".join(map(lambda x:'#'+day_name+x,key))\n",
    "\n",
    "msg=content+\" \"+c+' '+todays_tags+' '+hashtitle+\" via https://www.limeville.com\"\n",
    "\n",
    "\n",
    "print(msg)"
   ]
  },
  {
   "cell_type": "code",
   "execution_count": 8,
   "metadata": {},
   "outputs": [
    {
     "data": {
      "text/plain": [
       "u'https://www.limeville.com/wp-content/uploads/2020/06/00292020-06-09-14-20-38-53551029Snap.jpg'"
      ]
     },
     "execution_count": 8,
     "metadata": {},
     "output_type": "execute_result"
    }
   ],
   "source": [
    "thumb"
   ]
  },
  {
   "cell_type": "code",
   "execution_count": null,
   "metadata": {},
   "outputs": [],
   "source": []
  }
 ],
 "metadata": {
  "kernelspec": {
   "display_name": "Python 2",
   "language": "python",
   "name": "python2"
  },
  "language_info": {
   "codemirror_mode": {
    "name": "ipython",
    "version": 2
   },
   "file_extension": ".py",
   "mimetype": "text/x-python",
   "name": "python",
   "nbconvert_exporter": "python",
   "pygments_lexer": "ipython2",
   "version": "2.7.5"
  }
 },
 "nbformat": 4,
 "nbformat_minor": 2
}
