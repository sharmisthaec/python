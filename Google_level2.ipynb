{
 "cells": [
  {
   "cell_type": "markdown",
   "metadata": {},
   "source": [
    "## 1st Challenge"
   ]
  },
  {
   "cell_type": "code",
   "execution_count": null,
   "metadata": {},
   "outputs": [],
   "source": [
    "# # You've been assigned the onerous task of elevator maintenance - ugh! It wouldn't be so bad, except that \n",
    "# all the elevator documentation has been lying in a disorganized pile at the bottom of a filing cabinet for \n",
    "# years, and you don't even know what elevator version numbers you'll be working on.\n",
    "# # Elevator versions are represented by a series of numbers, divided up into major, minor and revision \n",
    "# integers. New versions of an elevator increase the major number, e.g. 1, 2, 3, and so on. When new features\n",
    "# are added to an elevator without being a complete new version, a second number named \"minor\" can be used to \n",
    "# represent those new additions, e.g. 1.0, 1.1, 1.2, etc. Small fixes or maintenance work can be represented \n",
    "# by a third number named \"revision\", e.g. 1.1.1, 1.1.2, 1.2.0, and so on. The number zero can be used as a\n",
    "# major for pre-release versions of elevators, e.g. 0.1, 0.5, 0.9.2, etc (Commander Lambda is careful to \n",
    "# always beta test her new technology, with her loyal henchmen as subjects!).\n",
    "# # Given a list of elevator versions represented as strings, write a function solution(l) that returns \n",
    "# the same list sorted in ascending order by major, minor, and revision number so that you can identify\n",
    "# the current elevator version. The versions in list l will always contain major numbers, but minor and\n",
    "# revision numbers are optional. If the version contains a revision number, then it will also have a\n",
    "# minor number.\n",
    "# # For example, given the list l as [\"1.1.2\", \"1.0\", \"1.3.3\", \"1.0.12\", \"1.0.2\"], the function \n",
    "# solution(l) would return the list [\"1.0\", \"1.0.2\", \"1.0.12\", \"1.1.2\", \"1.3.3\"]. If two or more versions \n",
    "# are equivalent but one version contains more numbers than the others, then these versions must be sorted\n",
    "# ascending based on how many numbers they have, e.g [\"1\", \"1.0\", \"1.0.0\"]. The number of elements in the\n",
    "# list l will be at least 1 and will not exceed 100.\n",
    "# Input:\n",
    "# solution.solution([\"1.11\", \"2.0.0\", \"1.2\", \"2\", \"0.1\", \"1.2.1\", \"1.1.1\", \"2.0\"])\n",
    "# Output:\n",
    "#     0.1,1.1.1,1.2,1.2.1,1.11,2,2.0,2.0.0\n",
    "# Input:\n",
    "# solution.solution([\"1.1.2\", \"1.0\", \"1.3.3\", \"1.0.12\", \"1.0.2\"])\n",
    "# Output:\n",
    "#     1.0,1.0.2,1.0.12,1.1.2,1.3.3\n"
   ]
  },
  {
   "cell_type": "code",
   "execution_count": 77,
   "metadata": {},
   "outputs": [],
   "source": [
    "def solution(*argv):\n",
    "        mylist=[]\n",
    "        for arg in argv:  \n",
    "            mylist.extend(arg)\n",
    "\n",
    "        mylist.sort(key=lambda s: map(int, s.split('.')))\n",
    "        new_str=\"\"\n",
    "        for str1 in mylist:\n",
    "            \n",
    "            new_str=new_str+\",\"+str1\n",
    "             \n",
    "           \n",
    "        \n",
    "        new_str=new_str.lstrip(\",\") \n",
    "        \n",
    "       \n",
    "        print(new_str)\n",
    "\n",
    "       \n",
    "                "
   ]
  },
  {
   "cell_type": "code",
   "execution_count": null,
   "metadata": {},
   "outputs": [],
   "source": []
  },
  {
   "cell_type": "code",
   "execution_count": 79,
   "metadata": {},
   "outputs": [
    {
     "name": "stdout",
     "output_type": "stream",
     "text": [
      "0.1,1.1.1,1.2,1.2.1,1.11,2,2.0,2.0.0\n"
     ]
    }
   ],
   "source": [
    "solution([\"1.11\", \"2.0.0\", \"1.2\", \"2\", \"0.1\", \"1.2.1\", \"1.1.1\", \"2.0\"])"
   ]
  },
  {
   "cell_type": "markdown",
   "metadata": {},
   "source": [
    "### 2nd Challenge"
   ]
  },
  {
   "cell_type": "code",
   "execution_count": null,
   "metadata": {},
   "outputs": [],
   "source": [
    "# Keeping track of Commander Lambda's many bunny prisoners is starting to get tricky. You've been tasked with writing a program to match bunny prisoner IDs to cell locations.\n",
    "# The LAMBCHOP doomsday device takes up much of the interior of Commander Lambda's space station, and as a result the prison blocks have an unusual layout. They are stacked in a triangular shape, and the bunny prisoners are given numerical IDs starting from the corner, as follows:\n",
    "# | 7\n",
    "# | 4 8\n",
    "# | 2 5 9\n",
    "# | 1 3 6 10\n",
    "# Each cell can be represented as points (x, y), with x being the distance from the vertical wall, and y being the height from the ground.\n",
    "# For example, the bunny prisoner at (1, 1) has ID 1, the bunny prisoner at (3, 2) has ID 9, and the bunny prisoner at (2,3) has ID 8. This pattern of numbering continues indefinitely (Commander Lambda has been taking a LOT of prisoners).\n",
    "# Write a function solution(x, y) which returns the prisoner ID of the bunny at location (x, y). Each value of x and y will be at least 1 and no greater than 100,000. Since the prisoner ID can be very large, return your solution as a string representation of the number."
   ]
  },
  {
   "cell_type": "code",
   "execution_count": null,
   "metadata": {},
   "outputs": [],
   "source": [
    "# def solution(x,y):\n",
    "    \n",
    "#     n=y\n",
    "#     num=(n*(n-1)/2)+1\n",
    "   \n",
    "    \n",
    "#     l=[num,]\n",
    "#     for index in range(1,10):\n",
    "#         num=num+(y+index)\n",
    "        \n",
    "#         l.append(num)\n",
    "#     return(l[x-1])    "
   ]
  },
  {
   "cell_type": "code",
   "execution_count": null,
   "metadata": {},
   "outputs": [],
   "source": [
    "def solution( x, y):\n",
    "    # Your code here\n",
    "    n=y\n",
    "    num=(n*(n-1)/2)+1\n",
    "   \n",
    "    \n",
    "    l=[num,]\n",
    "    for index in range(1,x):\n",
    "        num=num+(y+index)\n",
    "        \n",
    "        l.append(num)\n",
    "    value=str(l[x-1])   \n",
    "    print(l)  "
   ]
  },
  {
   "cell_type": "code",
   "execution_count": null,
   "metadata": {},
   "outputs": [],
   "source": [
    "solution(0,0)"
   ]
  }
 ],
 "metadata": {
  "kernelspec": {
   "display_name": "Python 2",
   "language": "python",
   "name": "python2"
  },
  "language_info": {
   "codemirror_mode": {
    "name": "ipython",
    "version": 2
   },
   "file_extension": ".py",
   "mimetype": "text/x-python",
   "name": "python",
   "nbconvert_exporter": "python",
   "pygments_lexer": "ipython2",
   "version": "2.7.5"
  }
 },
 "nbformat": 4,
 "nbformat_minor": 2
}
