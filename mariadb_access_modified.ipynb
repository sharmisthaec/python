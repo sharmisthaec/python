{
 "cells": [
  {
   "cell_type": "code",
   "execution_count": 1,
   "metadata": {},
   "outputs": [],
   "source": [
    "import mysql.connector as ms \n",
    "import pandas\n",
    "conn = ms.connect(host='localhost',\n",
    "                                       database='my_db',\n",
    "                                       user='parsa',\n",
    "                                       password='Shar@25a')\n",
    "cursor =conn.cursor(dictionary=True)"
   ]
  },
  {
   "cell_type": "code",
   "execution_count": 2,
   "metadata": {
    "scrolled": true
   },
   "outputs": [],
   "source": [
    "cursor.execute('''CREATE TABLE EMPLOYEE(\n",
    "   FIRST_NAME CHAR(20) NOT NULL,\n",
    "   LAST_NAME CHAR(20),\n",
    "   AGE INT,\n",
    "   SEX CHAR(1),\n",
    "   INCOME FLOAT)''')"
   ]
  },
  {
   "cell_type": "code",
   "execution_count": 3,
   "metadata": {},
   "outputs": [],
   "source": [
    "cursor.execute(\"\"\"INSERT INTO EMPLOYEE(FIRST_NAME, LAST_NAME, AGE, SEX, INCOME) \n",
    "   VALUES ('Mac', 'Mohan', 20, 'M', 2000),('Priti', 'Soni', 23, 'F', 5000),('Neha', 'Roy', 26, 'F', 8000)\"\"\")\n"
   ]
  },
  {
   "cell_type": "code",
   "execution_count": 4,
   "metadata": {},
   "outputs": [
    {
     "data": {
      "text/plain": [
       "[{u'AGE': 20,\n",
       "  u'FIRST_NAME': u'Mac',\n",
       "  u'INCOME': 2000.0,\n",
       "  u'LAST_NAME': u'Mohan',\n",
       "  u'SEX': u'M'},\n",
       " {u'AGE': 23,\n",
       "  u'FIRST_NAME': u'Priti',\n",
       "  u'INCOME': 5000.0,\n",
       "  u'LAST_NAME': u'Soni',\n",
       "  u'SEX': u'F'},\n",
       " {u'AGE': 26,\n",
       "  u'FIRST_NAME': u'Neha',\n",
       "  u'INCOME': 8000.0,\n",
       "  u'LAST_NAME': u'Roy',\n",
       "  u'SEX': u'F'}]"
      ]
     },
     "execution_count": 4,
     "metadata": {},
     "output_type": "execute_result"
    }
   ],
   "source": [
    "cursor.execute(\"SELECT * FROM EMPLOYEE\")\n",
    "result = cursor.fetchall()\n",
    "result"
   ]
  },
  {
   "cell_type": "code",
   "execution_count": 5,
   "metadata": {},
   "outputs": [
    {
     "data": {
      "text/html": [
       "<div>\n",
       "<style scoped>\n",
       "    .dataframe tbody tr th:only-of-type {\n",
       "        vertical-align: middle;\n",
       "    }\n",
       "\n",
       "    .dataframe tbody tr th {\n",
       "        vertical-align: top;\n",
       "    }\n",
       "\n",
       "    .dataframe thead th {\n",
       "        text-align: right;\n",
       "    }\n",
       "</style>\n",
       "<table border=\"1\" class=\"dataframe\">\n",
       "  <thead>\n",
       "    <tr style=\"text-align: right;\">\n",
       "      <th></th>\n",
       "      <th>AGE</th>\n",
       "      <th>FIRST_NAME</th>\n",
       "      <th>INCOME</th>\n",
       "      <th>LAST_NAME</th>\n",
       "      <th>SEX</th>\n",
       "    </tr>\n",
       "  </thead>\n",
       "  <tbody>\n",
       "    <tr>\n",
       "      <th>0</th>\n",
       "      <td>20</td>\n",
       "      <td>Mac</td>\n",
       "      <td>2000.0</td>\n",
       "      <td>Mohan</td>\n",
       "      <td>M</td>\n",
       "    </tr>\n",
       "    <tr>\n",
       "      <th>1</th>\n",
       "      <td>23</td>\n",
       "      <td>Priti</td>\n",
       "      <td>5000.0</td>\n",
       "      <td>Soni</td>\n",
       "      <td>F</td>\n",
       "    </tr>\n",
       "    <tr>\n",
       "      <th>2</th>\n",
       "      <td>26</td>\n",
       "      <td>Neha</td>\n",
       "      <td>8000.0</td>\n",
       "      <td>Roy</td>\n",
       "      <td>F</td>\n",
       "    </tr>\n",
       "  </tbody>\n",
       "</table>\n",
       "</div>"
      ],
      "text/plain": [
       "   AGE FIRST_NAME  INCOME LAST_NAME SEX\n",
       "0   20        Mac  2000.0     Mohan   M\n",
       "1   23      Priti  5000.0      Soni   F\n",
       "2   26       Neha  8000.0       Roy   F"
      ]
     },
     "execution_count": 5,
     "metadata": {},
     "output_type": "execute_result"
    }
   ],
   "source": [
    "table_df = pandas.DataFrame.from_dict(result)\n",
    "table_df"
   ]
  },
  {
   "cell_type": "code",
   "execution_count": 6,
   "metadata": {},
   "outputs": [],
   "source": [
    "conn.commit() #to save all changes"
   ]
  },
  {
   "cell_type": "code",
   "execution_count": 7,
   "metadata": {},
   "outputs": [],
   "source": [
    "#cursor.execute(\"DROP TABLE EMPLOYEE\") #to detele the table \n",
    "conn.close() #to close the current connection"
   ]
  },
  {
   "cell_type": "code",
   "execution_count": null,
   "metadata": {},
   "outputs": [],
   "source": []
  },
  {
   "cell_type": "code",
   "execution_count": null,
   "metadata": {},
   "outputs": [],
   "source": []
  }
 ],
 "metadata": {
  "kernelspec": {
   "display_name": "Python 2",
   "language": "python",
   "name": "python2"
  },
  "language_info": {
   "codemirror_mode": {
    "name": "ipython",
    "version": 2
   },
   "file_extension": ".py",
   "mimetype": "text/x-python",
   "name": "python",
   "nbconvert_exporter": "python",
   "pygments_lexer": "ipython2",
   "version": "2.7.5"
  }
 },
 "nbformat": 4,
 "nbformat_minor": 2
}
