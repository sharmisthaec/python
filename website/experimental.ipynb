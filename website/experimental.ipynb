{
 "cells": [
  {
   "cell_type": "code",
   "execution_count": 1,
   "metadata": {},
   "outputs": [],
   "source": [
    "from PIL import Image, ImageDraw, ImageFont\n",
    "from colorthief import ColorThief\n",
    "import textwrap\n",
    "import os\n",
    "import random\n",
    "import datetime #please run the code in IST System time\n",
    "import pandas"
   ]
  },
  {
   "cell_type": "code",
   "execution_count": 19,
   "metadata": {},
   "outputs": [
    {
     "name": "stdout",
     "output_type": "stream",
     "text": [
      "(0, 'ArmWrestler.ttf')\n",
      "(1, 'Bebas-Regular.ttf')\n",
      "(2, 'COMMSB__.ttf')\n",
      "(3, 'Dinomouse-Regular.otf')\n",
      "(4, 'FrancoisOne.ttf')\n",
      "(5, 'JesaScript-Regular.otf')\n",
      "(6, 'Magra-Bold.ttf')\n",
      "(7, 'Narrenschiff-Regular.otf')\n",
      "(8, 'NimbusRomNo9L-Med.otf')\n",
      "(9, 'Nunito-Black.ttf')\n",
      "(10, 'PoetsenOne-Regular.ttf')\n",
      "(11, 'Poppins-ExtraBold.otf')\n",
      "(12, 'Rooters.ttf')\n",
      "(13, 'Rubik-Black.ttf')\n",
      "(14, 'Rubik-Italic.ttf')\n",
      "(15, 'Super Kid.ttf')\n",
      "(16, 'Westmeath.ttf')\n",
      "(17, 'Xanthie-Bold.otf')\n",
      "(18, 'banksb20.ttf')\n",
      "(19, 'kimbalt_.ttf')\n",
      "(20, 'overpass-extrabold.otf')\n",
      "(21, 'rajdhani-bold.ttf')\n"
     ]
    }
   ],
   "source": [
    "font_list=os.listdir('fonts')######\n",
    "\n",
    "for i in range(len(font_list)):\n",
    "    im = Image.new(mode = \"RGB\", size = (800, 800), color = (255, 255, 255))\n",
    "    draw = ImageDraw.Draw(im)\n",
    " \n",
    "    text=\"Poetry has a long history dating back to prehistoric times with hunting poetry in Africa,and to panegyric and elegiac court poetry of the empires of the Nile, Niger, and Volta River valleys with some of\"\n",
    "        \n",
    "    print(i,sorted(font_list)[i])\n",
    "    fnt = ImageFont.truetype(os.path.join('fonts/',sorted(font_list)[i]), 60)#######\n",
    "\n",
    "    y_text = 20\n",
    "    lines = textwrap.wrap(text, width=24)\n",
    "    for line in lines:\n",
    "        line_width, line_height = fnt.getsize(line)\n",
    "        draw.text(((800 - line_width) / 2, y_text), line, font=fnt, fill=(105, 66, 245))\n",
    "        y_text += line_height\n",
    "        \n",
    "\n",
    "    im.save('uploads/A_'+sorted(font_list)[i]+'Snap.jpg',quality=50)"
   ]
  },
  {
   "cell_type": "code",
   "execution_count": null,
   "metadata": {},
   "outputs": [],
   "source": []
  },
  {
   "cell_type": "code",
   "execution_count": null,
   "metadata": {},
   "outputs": [],
   "source": []
  },
  {
   "cell_type": "code",
   "execution_count": null,
   "metadata": {},
   "outputs": [],
   "source": []
  },
  {
   "cell_type": "code",
   "execution_count": null,
   "metadata": {},
   "outputs": [],
   "source": []
  },
  {
   "cell_type": "code",
   "execution_count": null,
   "metadata": {},
   "outputs": [],
   "source": [
    "# fbaccount\n",
    "#techPartner youtube linkedin blog submitcontent backlinking\n",
    "#  spylovesove tumblr reddit linkedin"
   ]
  }
 ],
 "metadata": {
  "kernelspec": {
   "display_name": "Python 2",
   "language": "python",
   "name": "python2"
  },
  "language_info": {
   "codemirror_mode": {
    "name": "ipython",
    "version": 2
   },
   "file_extension": ".py",
   "mimetype": "text/x-python",
   "name": "python",
   "nbconvert_exporter": "python",
   "pygments_lexer": "ipython2",
   "version": "2.7.5"
  }
 },
 "nbformat": 4,
 "nbformat_minor": 2
}
