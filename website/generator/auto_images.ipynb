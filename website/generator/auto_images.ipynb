{
 "cells": [
  {
   "cell_type": "code",
   "execution_count": 2,
   "metadata": {},
   "outputs": [],
   "source": [
    "from PIL import Image, ImageDraw, ImageFont\n",
    "from colorthief import ColorThief\n",
    "import textwrap\n",
    "import os\n",
    "import random\n",
    "import datetime \n",
    "import pandas\n",
    "\n",
    "def convertuni(text):\n",
    "    conversion = {\n",
    "    u\"\\u2018\": \"'\", \n",
    "    u\"\\u201c\": \"\\\"\",\n",
    "    u'\\u201d' :\"\\\"\",\n",
    "    u\"\\u00a0\": \" \", \n",
    "    u'\\u2019':\"'\",\n",
    "    u'\\u2026':\".\",\n",
    "    u'\\u2013':\"'\",\n",
    "    u'\\u2015':\",\", \n",
    "    }\n",
    "  \n",
    "    for k, v in conversion.items():\n",
    "        text = text.replace(k,v)\n",
    "    return text.encode('ascii')\n",
    "\n",
    "def createnewimage(image,imagepath,text,snapvar,Alpha,Font_Size,Wrap):  \n",
    "    \n",
    "    \n",
    "    \n",
    "    color_thief = ColorThief(imagepath)\n",
    "    r,g,b=color_thief.get_palette(color_count=2)[0]\n",
    "\n",
    "    \n",
    "    yiq = ((r*299)+(g*587)+(b*114))/1000\n",
    "\n",
    "    if yiq >= 128:\n",
    "        colors=[(122, 0, 0),(122, 118, 0),(53, 122, 0),(0, 107, 48),(0, 107, 80),(0, 115, 133),(0, 58, 133),(33, 0, 133),(120, 0, 133),(133, 0, 80),(131, 0, 133) ]#dark colors\n",
    "        text_color=random.choice(colors)\n",
    "        bg = Image.open(\"whitebg.jpg\").convert('RGBA')\n",
    "        Fill=(0,0,0)\n",
    "        \n",
    "    else:\n",
    "        colors=[ (255, 224, 224),(255, 243, 224),(255, 255, 224),(240, 255, 224),(224, 255, 224),(224, 255, 248),(224, 245, 255),(224, 226, 255),(241, 224, 255),(253, 224, 255),(255, 224, 237)]#light colors\n",
    "        text_color=random.choice(colors)\n",
    "        bg = Image.open(\"blackbg.jpg\").convert('RGBA')\n",
    "        Fill=(227, 227, 227)\n",
    "\n",
    "    font_list=os.listdir('fonts')\n",
    "    current_font=random.choice(font_list)\n",
    "    print \"Printing with:\", current_font\n",
    "    \n",
    "    imageB=image.resize((800,800))\n",
    "    bgB=bg.resize((800,800))\n",
    "    \n",
    "    alphaimage = Image.blend(  bgB,imageB, alpha=Alpha)\n",
    "    imageC=alphaimage.convert(\"RGB\")\n",
    "  \n",
    "    font = ImageFont.truetype(os.path.join('fonts/',current_font), Font_Size)\n",
    "    \n",
    "\n",
    "    if len(text)>=180:\n",
    "        text_start_height = 20\n",
    "    elif len(text)>=150 and len(text)<180:\n",
    "        text_start_height = 80\n",
    "    elif len(text)>=100 and len(text)<150:\n",
    "        text_start_height = 120\n",
    "    else:\n",
    "        text_start_height = 150\n",
    "    \n",
    "    draw = ImageDraw.Draw(imageC)\n",
    "\n",
    "    \n",
    "    image_width, image_height = imageC.size\n",
    "    y_text = text_start_height\n",
    "#     lines = textwrap.wrap(text, width=22)\n",
    "    \n",
    "    split_lines = text.split(\"\\n\")\n",
    "    lines=[]\n",
    "    for item in split_lines:\n",
    "        line = textwrap.fill(item, width=Wrap).split(\"\\n\")\n",
    "        lines.extend(line)\n",
    "        \n",
    "    for line in lines:\n",
    "        line_width, line_height = font.getsize(line)\n",
    "        draw.text(((image_width - line_width) / 2, y_text), line, font=font, fill=text_color)\n",
    "        y_text += line_height\n",
    "\n",
    "\n",
    "    fnt = ImageFont.truetype('fonts/rajdhani-bold.ttf', 20)\n",
    "    draw.text((20,750),\"limeville.com\" , font=fnt, fill=Fill)\n",
    "    \n",
    "    \n",
    "    \n",
    "    imageC.save('uploads/00'+snapvar+'Snap.jpg',quality=60)\n",
    "\n",
    "def createcsv(tags):    \n",
    "    for i in range(len(rawtext)):\n",
    "\n",
    "        \n",
    "        author=\"admin\"\n",
    "        content=convertuni(rawtext[i])\n",
    "        title=\" \".join(content.split()[:3])\n",
    "        slug=datetime.datetime.now().strftime('%Y-%m-%d-%H-%M-%S-%f')\n",
    "        cmnt=\"open\"\n",
    "        ping=\"open\"\n",
    "        status=\"publish\"\n",
    "        frmt=\"post\"\n",
    "        category=cat\n",
    "        image='https://www.limeville.com/wp-content/uploads/2020/arc/'+uploads_images[i]\n",
    "        tags=tags\n",
    "        filedata.loc[i]=[title,author,content,slug,cmnt,ping,status,frmt,category,image,tags]\n",
    "        \n",
    "    filedata.to_csv(\"limevilleDemo.csv\", mode='a', header=False,index=False,encoding=\"UTF-8\")\n"
   ]
  },
  {
   "cell_type": "markdown",
   "metadata": {},
   "source": [
    "# Set Values"
   ]
  },
  {
   "cell_type": "code",
   "execution_count": 7,
   "metadata": {},
   "outputs": [],
   "source": [
    "#please run the code in IST System time\n",
    "#number of images and text should be same\n",
    "#text size max 200\n",
    "#set Cat\n",
    "#set Tags\n",
    "#clear uploads folder\n",
    "#set rawtext file\n",
    "#set rawimages folder\n",
    "\n",
    "\n",
    "cat=\"Unique Good Morning Wishes\" \n",
    "tags=\"\" \n",
    "Alpha=0.6\n",
    "Font_Size=57\n",
    "Wrap=25"
   ]
  },
  {
   "cell_type": "markdown",
   "metadata": {},
   "source": [
    "# Generating Images"
   ]
  },
  {
   "cell_type": "code",
   "execution_count": 5,
   "metadata": {},
   "outputs": [
    {
     "name": "stdout",
     "output_type": "stream",
     "text": [
      "Printing with: Rubik-Italic.ttf\n",
      "Printing with: Xanthie-Bold.otf\n",
      "Printing with: banksb20.ttf\n",
      "Printing with: Rubik-Italic.ttf\n",
      "Printing with: Nunito-Black.ttf\n",
      "Printing with: PoetsenOne-Regular.ttf\n",
      "Printing with: Westmeath.ttf\n",
      "Printing with: Poppins-ExtraBold.otf\n",
      "Printing with: Westmeath.ttf\n",
      "Printing with: Westmeath.ttf\n"
     ]
    }
   ],
   "source": [
    "image_list=os.listdir('rawimages')\n",
    "data=pandas.read_csv(\"rawtext.csv\",encoding=\"UTF-8\")\n",
    "rawtext=list(data[\"Quotes\"])\n",
    "\n",
    "for i in range(len(rawtext)):\n",
    "    current_image=image_list[i]\n",
    "    imagepath=os.path.join('rawimages/',current_image)\n",
    "    image = Image.open(os.path.join('rawimages/',current_image)).convert('RGBA')\n",
    "    text=convertuni(rawtext[i])\n",
    "    snapvar=str(i+10)+datetime.datetime.now().strftime('%Y-%m-%d-%H-%M-%S-%f')+str(i+10)\n",
    "    \n",
    "    createnewimage(image,imagepath,text,snapvar,Alpha,Font_Size,Wrap)"
   ]
  },
  {
   "cell_type": "markdown",
   "metadata": {},
   "source": [
    "# Generating CSV File"
   ]
  },
  {
   "cell_type": "code",
   "execution_count": 18,
   "metadata": {},
   "outputs": [],
   "source": [
    "data=pandas.read_csv(\"rawtext.csv\",encoding=\"UTF-8\") \n",
    "rawtext=list(data[\"Quotes\"])\n",
    "uploads_images=os.listdir('uploads')\n",
    "uploads_images=sorted(uploads_images)\n",
    "filedata = pandas.DataFrame(columns=['Title', 'Author', 'Content','Slug', 'Comment Status', 'Ping Status','Status', 'Format', 'category','Featured Image','post_tag'])\n",
    "createcsv(tags)"
   ]
  },
  {
   "cell_type": "code",
   "execution_count": null,
   "metadata": {},
   "outputs": [],
   "source": [
    "\n",
    "\t\t\t"
   ]
  },
  {
   "cell_type": "code",
   "execution_count": 10,
   "metadata": {},
   "outputs": [],
   "source": [
    "\n"
   ]
  },
  {
   "cell_type": "code",
   "execution_count": null,
   "metadata": {},
   "outputs": [],
   "source": []
  },
  {
   "cell_type": "code",
   "execution_count": null,
   "metadata": {},
   "outputs": [],
   "source": []
  },
  {
   "cell_type": "code",
   "execution_count": null,
   "metadata": {},
   "outputs": [],
   "source": []
  }
 ],
 "metadata": {
  "kernelspec": {
   "display_name": "Python 2",
   "language": "python",
   "name": "python2"
  },
  "language_info": {
   "codemirror_mode": {
    "name": "ipython",
    "version": 2
   },
   "file_extension": ".py",
   "mimetype": "text/x-python",
   "name": "python",
   "nbconvert_exporter": "python",
   "pygments_lexer": "ipython2",
   "version": "2.7.5"
  }
 },
 "nbformat": 4,
 "nbformat_minor": 2
}
