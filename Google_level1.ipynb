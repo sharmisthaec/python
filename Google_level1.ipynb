{
 "cells": [
  {
   "cell_type": "code",
   "execution_count": 3,
   "metadata": {},
   "outputs": [],
   "source": [
    "# There's some unrest in the minion ranks: minions with ID numbers like \"1\", \"42\", and other \"good\" numbers\n",
    "# have been lording it over the poor minions who are stuck with more boring IDs. To quell the unrest, \n",
    "# Commander Lambda has tasked you with reassigning everyone new, random IDs based on her Completely Foolproof\n",
    "# Scheme.\n",
    "# She's concatenated the prime numbers in a single long string: \"2357111317192329...\". Now every minion must \n",
    "# draw a number from a hat. That number is the starting index in that string of primes, and the minion's new \n",
    "# ID number will be the next five digits in the string. So if a minion draws \"3\", their ID number will\n",
    "# be \"71113\".\n",
    "# # Help the Commander assign these IDs by writing a function solution(n) which takes in the starting\n",
    "# index n of Lambda's string of all primes, and returns the next five digits in the string. Commander Lambda \n",
    "# has a lot of minions, so the value of n will always be between 0 and 10000."
   ]
  },
  {
   "cell_type": "code",
   "execution_count": null,
   "metadata": {},
   "outputs": [],
   "source": [
    "def solution(i)\n",
    "\n",
    "    num=2\n",
    "    num_string=\"\"\n",
    "    n=0\n",
    "\n",
    "    while len(num_string)<=(n+4):\n",
    "\n",
    "        if num > 1:\n",
    "            for i in range(2, num):\n",
    "                if (num % i) == 0:\n",
    "\n",
    "                    break\n",
    "            else:\n",
    "\n",
    "                num_string=num_string+str(num)\n",
    "\n",
    "\n",
    "        else:\n",
    "            continue\n",
    "\n",
    "        num=num+1"
   ]
  },
  {
   "cell_type": "code",
   "execution_count": null,
   "metadata": {},
   "outputs": [],
   "source": [
    "num_string"
   ]
  },
  {
   "cell_type": "code",
   "execution_count": null,
   "metadata": {},
   "outputs": [],
   "source": [
    "num_string[n:n+5]"
   ]
  },
  {
   "cell_type": "code",
   "execution_count": 1,
   "metadata": {},
   "outputs": [],
   "source": [
    "def solution(i):\n",
    "    num=2\n",
    "    num_string=\"\"\n",
    "    \n",
    "\n",
    "    while len(num_string)<=(i+4):\n",
    "\n",
    "        if num > 1:\n",
    "            for n in range(2, num):\n",
    "                if (num % n) == 0:\n",
    "\n",
    "                    break\n",
    "            else:\n",
    "\n",
    "                num_string=num_string+str(num)\n",
    "\n",
    "\n",
    "        else:\n",
    "            continue\n",
    "\n",
    "        num=num+1\n",
    "        \n",
    "    return(num_string[i:i+5])"
   ]
  },
  {
   "cell_type": "code",
   "execution_count": 2,
   "metadata": {},
   "outputs": [
    {
     "data": {
      "text/plain": [
       "'23571'"
      ]
     },
     "execution_count": 2,
     "metadata": {},
     "output_type": "execute_result"
    }
   ],
   "source": [
    "solution(0)"
   ]
  },
  {
   "cell_type": "code",
   "execution_count": null,
   "metadata": {},
   "outputs": [],
   "source": []
  }
 ],
 "metadata": {
  "kernelspec": {
   "display_name": "Python 2",
   "language": "python",
   "name": "python2"
  },
  "language_info": {
   "codemirror_mode": {
    "name": "ipython",
    "version": 2
   },
   "file_extension": ".py",
   "mimetype": "text/x-python",
   "name": "python",
   "nbconvert_exporter": "python",
   "pygments_lexer": "ipython2",
   "version": "2.7.5"
  }
 },
 "nbformat": 4,
 "nbformat_minor": 2
}
