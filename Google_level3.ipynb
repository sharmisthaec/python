{
 "cells": [
  {
   "cell_type": "markdown",
   "metadata": {},
   "source": [
    "## 1st Challenge"
   ]
  },
  {
   "cell_type": "code",
   "execution_count": 15,
   "metadata": {},
   "outputs": [],
   "source": [
    "\n",
    "# Queue To Do\n",
    "# ===========\n",
    "\n",
    "# You're almost ready to make your move to destroy the LAMBCHOP doomsday device, but the security checkpoints \n",
    "# that guard the underlying systems of the LAMBCHOP are going to be a problem. You were able to take one down \n",
    "# without tripping any alarms, which is great! Except that as Commander Lambda's assistant, youve learned that\n",
    "# the checkpoints are about to come under automated review, which means that your sabotage will be discovered\n",
    "# and your cover blown - unless you can trick the automated review system.\n",
    "\n",
    "# To trick the system, you'll need to write a program to return the same security checksum that the guards\n",
    "# would have after they would have checked all the workers through. Fortunately, Commander Lambda's \n",
    "# desire for efficiency won't allow for hours-long lines, so the checkpoint guards have found ways to \n",
    "# quicken the pass-through rate. Instead of checking each and every worker coming through, the guards \n",
    "# instead go over everyone in line while noting their security IDs, then allow the line to fill back up. \n",
    "# Once they've done that they go over the line again, this time leaving off the last worker. They continue\n",
    "# doing this, leaving off one more worker from the line each time but recording the security IDs of those\n",
    "# they do check, until they skip the entire line, at which point they XOR the IDs of all the workers they \n",
    "# noted into a checksum and then take off for lunch. Fortunately, the workers' orderly nature causes them\n",
    "# to always line up in numerical order without any gaps.\n",
    "\n",
    "# For example, if the first worker in line has ID 0 and the security checkpoint line holds three workers,\n",
    "# the process would look like this:\n",
    "# 0 1 2 /\n",
    "# 3 4 / 5\n",
    "# 6 / 7 8\n",
    "# where the guards' XOR (^) checksum is 0^1^2^3^4^6 == 2.\n",
    "\n",
    "# Likewise, if the first worker has ID 17 and the checkpoint holds four workers, the process would look like:\n",
    "# 17 18 19 20 /\n",
    "# 21 22 23 / 24\n",
    "# 25 26 / 27 28\n",
    "# 29 / 30 31 32\n",
    "# which produces the checksum 17^18^19^20^21^22^23^25^26^29 == 14.\n",
    "\n",
    "# All worker IDs (including the first worker) are between 0 and 2000000000 inclusive, and the checkpoint\n",
    "# line will always be at least 1 worker long.\n",
    "\n",
    "# With this information, write a function solution(start, length) that will cover for the missing security \n",
    "# checkpoint by outputting the same checksum the guards would normally submit before lunch. You have just\n",
    "# enough time to find out the ID of the first worker to be checked (start) and the length of the line (length)\n",
    "# before the automatic review occurs, so your program must generate the proper checksum with just those two\n",
    "# values.\n",
    "\n",
    "\n",
    "# -- Python cases --\n",
    "# Input:\n",
    "# solution.solution(0, 3)\n",
    "# Output:\n",
    "#     2\n",
    "\n",
    "# Input:\n",
    "# solution.solution(17, 4)\n",
    "# Output:\n",
    "#     14"
   ]
  },
  {
   "cell_type": "code",
   "execution_count": 16,
   "metadata": {},
   "outputs": [],
   "source": [
    "def solution(start, length):\n",
    "  \n",
    "    checksum = 0\n",
    "    cur = start\n",
    "    cur_len = length\n",
    "    while cur_len > 0:\n",
    "        checksum ^= xorsum(cur) ^ xorsum(cur + cur_len)\n",
    "        cur += length\n",
    "        cur_len -= 1\n",
    "    return checksum\n",
    "def xorsum(n):\n",
    "    \n",
    "    if n == 0:\n",
    "        return 0\n",
    "    if (n-1) % 4 == 0:\n",
    "        return n-1\n",
    "    elif (n-1) % 4 == 1:\n",
    "        return 1\n",
    "    elif (n-1) % 4 == 2:\n",
    "        return n\n",
    "    else:\n",
    "        return 0"
   ]
  },
  {
   "cell_type": "code",
   "execution_count": 17,
   "metadata": {},
   "outputs": [
    {
     "data": {
      "text/plain": [
       "2"
      ]
     },
     "execution_count": 17,
     "metadata": {},
     "output_type": "execute_result"
    }
   ],
   "source": [
    "solution(0, 3)"
   ]
  },
  {
   "cell_type": "markdown",
   "metadata": {},
   "source": [
    "## 2nd Challenge"
   ]
  },
  {
   "cell_type": "code",
   "execution_count": null,
   "metadata": {},
   "outputs": [],
   "source": [
    "# Find the Access Codes\n",
    "# =====================\n",
    "# In order to destroy Commander Lambda's LAMBCHOP doomsday device, you'll need access to it. But the only\n",
    "# door leading to the LAMBCHOP chamber is secured with a unique lock system whose number of passcodes changes\n",
    "# daily. Commander Lambda gets a report every day that includes the locks' access codes, but only she knows \n",
    "# how to figure out which of several lists contains the access codes. You need to find a way to determine \n",
    "# which list contains the access codes once you're ready to go in.\n",
    "# # Fortunately, now that you're Commander Lambda's personal assistant, she's confided to you that she made\n",
    "# all the access codes \"lucky triples\" in order to help her better find them in the lists. A \"lucky triple\"\n",
    "# is a tuple (x, y, z) where x divides y and y divides z, such as (1, 2, 4). With that information, you can\n",
    "# figure out which list contains the number of access codes that matches the number of locks on the door\n",
    "# when you're ready to go in (for example, if there's 5 passcodes, you'd need to find a list with 5 \"lucky\n",
    "# triple\" access codes).\n",
    "# # Write a function solution(l) that takes a list of positive integers l and counts the number of \"lucky \n",
    "# triples\" of (li, lj, lk) where the list indices meet the requirement i < j < k.  The length of l is between\n",
    "# 2 and 2000 inclusive.  The elements of l are between 1 and 999999 inclusive.  The answer fits within a \n",
    "# signed 32-bit integer. Some of the lists are purposely generated without any access codes to throw off \n",
    "# spies, so if no triples are found, return 0.\n",
    "# For example, [1, 2, 3, 4, 5, 6] has the triples: [1, 2, 4], [1, 2, 6], [1, 3, 6], making the answer 3 total."
   ]
  },
  {
   "cell_type": "code",
   "execution_count": 1,
   "metadata": {},
   "outputs": [],
   "source": [
    "# Input:\n",
    "# solution.solution([1, 2, 3, 4, 5, 6])\n",
    "# Output:\n",
    "#     3\n",
    "# Input:\n",
    "# solution.solution([1, 1, 1])\n",
    "# Output:\n",
    "#     1"
   ]
  },
  {
   "cell_type": "code",
   "execution_count": null,
   "metadata": {},
   "outputs": [],
   "source": [
    "\n",
    "def find_multiples(l, index):\n",
    "    current_divider = l[index]\n",
    "    return [item for item in l[index + 1:] if item % current_divider == 0]\n",
    "def find_dividers(l, index):\n",
    "    current_dividend = l[index]\n",
    "    return [item for item in l[:index] if current_dividend % item == 0]\n",
    "def answer(l):\n",
    "    list_size = len(l)\n",
    "    count = 0\n",
    "    while list_size >= 2:\n",
    "        list_size -= 1\n",
    "        count += len(find_dividers(l, list_size)) * len(find_multiples(l, list_size))\n",
    "    return count\n"
   ]
  },
  {
   "cell_type": "markdown",
   "metadata": {},
   "source": [
    "## 3rd Challenge"
   ]
  },
  {
   "cell_type": "code",
   "execution_count": 2,
   "metadata": {},
   "outputs": [],
   "source": [
    "# Prepare the Bunnies' Escape\n",
    "# ===========================\n",
    "# You're awfully close to destroying the LAMBCHOP doomsday device and freeing Commander Lambda's bunny \n",
    "# prisoners, but once they're free of the prison blocks, the bunnies are going to need to escape Lambda's\n",
    "# space station via the escape pods as quickly as possible. Unfortunately, the halls of the space station\n",
    "# are a maze of corridors and dead ends that will be a deathtrap for the escaping bunnies. Fortunately,\n",
    "# Commander Lambda has put you in charge of a remodeling project that will give you the opportunity to \n",
    "# make things a little easier for the bunnies. Unfortunately (again), you can't just remove all obstacles\n",
    "# between the bunnies and the escape pods - at most you can remove one wall per escape pod path, both to\n",
    "# maintain structural integrity of the station and to avoid arousing Commander Lambda's suspicions.\n",
    "# # You have maps of parts of the space station, each starting at a prison exit and ending at the door to \n",
    "# an escape pod. The map is represented as a matrix of 0s and 1s, where 0s are passable space and 1s are\n",
    "# impassable walls. The door out of the prison is at the top left (0,0) and the door into an escape pod\n",
    "# is at the bottom right (w-1,h-1).\n",
    "# # Write a function solution(map) that generates the length of the shortest path from the prison door \n",
    "# to the escape pod, where you are allowed to remove one wall as part of your remodeling plans. The path \n",
    "# length is the total number of nodes you pass through, counting both the entrance and exit nodes. The \n",
    "# starting and ending positions are always passable (0). The map will always be solvable, though you may \n",
    "# or may not need to remove a wall. The height and width of the map can be from 2 to 20. Moves can only be \n",
    "# made in cardinal directions; no diagonal moves are allowed.\n",
    "# Languages\n",
    "# =========\n",
    "# To provide a Python solution, edit solution.py\n",
    "# To provide a Java solution, edit Solution.java\n",
    "# Test cases\n",
    "# ==========\n",
    "# Your code should pass the following test cases.\n",
    "# Note that it may also be run against hidden test cases not shown here.\n",
    "# -- Python cases --\n",
    "# Input:\n",
    "# solution.solution([[0, 1, 1, 0], [0, 0, 0, 1], [1, 1, 0, 0], [1, 1, 1, 0]])\n",
    "# Output:\n",
    "#     7\n",
    "# Input:\n",
    "# solution.solution([[0, 0, 0, 0, 0, 0], [1, 1, 1, 1, 1, 0], [0, 0, 0, 0, 0, 0], [0, 1, 1, 1, 1, 1], [0, 1, 1, 1, 1, 1], [0, 0, 0, 0, 0, 0]])\n",
    "# Output:\n",
    "#     11"
   ]
  },
  {
   "cell_type": "code",
   "execution_count": null,
   "metadata": {},
   "outputs": [],
   "source": []
  },
  {
   "cell_type": "code",
   "execution_count": 1,
   "metadata": {},
   "outputs": [],
   "source": [
    "from collections import deque\n",
    "# define space station parameters\n",
    "WALL_POWER = 1\n",
    "class Node:\n",
    "    def __init__(self, x, y, power=0):\n",
    "        self.x = x\n",
    "        self.y = y\n",
    "        self.power = power\n",
    "    def __iter__(self):\n",
    "        return iter([self.x, self.y])\n",
    "    def __hash__(self):\n",
    "        return hash(tuple(self))\n",
    "    def __eq__(self, node):\n",
    "        return self.x == node.x and self.y == node.y\n",
    "    def __str__(self):\n",
    "        return \"({n.x}, {n.y})\".format(n=self)\n",
    "    def __repr__(self):\n",
    "        return self.__str__()\n",
    "    \n",
    "    \n",
    "class Router:\n",
    "    def __init__(self, matrix, power):\n",
    "        self.matrix = matrix\n",
    "        self.power = power\n",
    "        self.width = len(matrix[0])\n",
    "        self.height = len(matrix)\n",
    "        self.offsets = [(-1, 0), (0, -1), (0, 1), (1, 0)]\n",
    "        self.visited = set()\n",
    "        self.distances = {}\n",
    "        \n",
    "    def is_wall(self, x, y):\n",
    "        return self.matrix[y][x] == 1\n",
    "    \n",
    "    def get_adjacent(self, node):\n",
    "        for offset in self.offsets:\n",
    "            x, y = list(tuple(u + v for u, v in zip((node.x, node.y), offset)))\n",
    "            if self.width > x >= 0 and self.height > y >= 0:\n",
    "                neighbor = Node(x, y, node.power)\n",
    "                if self.is_wall(x, y):\n",
    "                    if neighbor.power > 0:\n",
    "                        neighbor.power -= 1\n",
    "                        yield neighbor\n",
    "                else:\n",
    "                    yield neighbor\n",
    "                    \n",
    "    def distance(self, start, end):\n",
    "        # configure initial values\n",
    "        self.distances[start] = 1\n",
    "        start.power = self.power\n",
    "        # configure queue\n",
    "        queue = deque([])\n",
    "        queue.append(start)\n",
    "        while queue:\n",
    "            # grab first node in queue\n",
    "            current = queue.popleft()\n",
    "            self.visited.add(current)\n",
    "            # return distance when we reach our destination\n",
    "            if current == end:\n",
    "                return self.distances[current]\n",
    "            # find all adjacent nodes\n",
    "            for neighbor in self.get_adjacent(current):\n",
    "                # process unvisited nodes only\n",
    "                if neighbor not in self.visited:\n",
    "                    self.distances[neighbor] = self.distances[current] + 1\n",
    "                    queue.append(neighbor)\n",
    "        return float('inf')\n",
    "    \n",
    "    \n",
    "    \n",
    "def solution(maze):\n",
    "    # create space station router\n",
    "    station = Router(maze, power=WALL_POWER)\n",
    "    # create enter/exit coordinates\n",
    "    enter = Node(0, 0)\n",
    "    exit = Node(station.width-1, station.height-1)\n",
    "    # calculate distance between given coordinates\n",
    "    distance = station.distance(enter, exit)\n",
    "    return distance"
   ]
  },
  {
   "cell_type": "code",
   "execution_count": 4,
   "metadata": {},
   "outputs": [],
   "source": [
    "l=[[0, 1, 1, 0], [0, 0, 0, 1], [1, 1, 0, 0], [1, 1, 1, 0]]"
   ]
  },
  {
   "cell_type": "code",
   "execution_count": 8,
   "metadata": {},
   "outputs": [],
   "source": [
    "def gcd(a, b):\n",
    "    a, b = abs(a), abs(b)\n",
    "    while a != 0 and b != 0:\n",
    "        a %= b\n",
    "        if a == 0:\n",
    "            break\n",
    "        b %= a\n",
    "        if b == 0:\n",
    "            break\n",
    "    return a + b\n",
    "def fix(a, b):\n",
    "    if a == 0 and b == 0:\n",
    "        return 0, 0\n",
    "    d = gcd(a, b)\n",
    "    a //= d\n",
    "    b //= d\n",
    "    return a, b"
   ]
  },
  {
   "cell_type": "code",
   "execution_count": 14,
   "metadata": {},
   "outputs": [
    {
     "data": {
      "text/plain": [
       "(3, 2)"
      ]
     },
     "execution_count": 14,
     "metadata": {},
     "output_type": "execute_result"
    }
   ],
   "source": [
    "fix(6,4) 2"
   ]
  },
  {
   "cell_type": "code",
   "execution_count": null,
   "metadata": {},
   "outputs": [],
   "source": []
  }
 ],
 "metadata": {
  "kernelspec": {
   "display_name": "Python 2",
   "language": "python",
   "name": "python2"
  },
  "language_info": {
   "codemirror_mode": {
    "name": "ipython",
    "version": 2
   },
   "file_extension": ".py",
   "mimetype": "text/x-python",
   "name": "python",
   "nbconvert_exporter": "python",
   "pygments_lexer": "ipython2",
   "version": "2.7.5"
  }
 },
 "nbformat": 4,
 "nbformat_minor": 2
}
